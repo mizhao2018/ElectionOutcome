{
 "cells": [
  {
   "cell_type": "code",
   "execution_count": 1,
   "metadata": {},
   "outputs": [],
   "source": [
    "import pandas as pd\n",
    "import numpy as np\n",
    "import pickle\n",
    "from sklearn.metrics import confusion_matrix\n",
    "import matplotlib.pyplot as plt\n",
    "import seaborn as sns"
   ]
  },
  {
   "cell_type": "code",
   "execution_count": 2,
   "metadata": {},
   "outputs": [],
   "source": [
    "import plotly\n",
    "plotly.tools.set_credentials_file(username='mizhao2018', api_key='BJZesVxkafRwniQRbMFx')"
   ]
  },
  {
   "cell_type": "code",
   "execution_count": 3,
   "metadata": {},
   "outputs": [],
   "source": [
    "import plotly.plotly as py\n",
    "import plotly.figure_factory as ff\n",
    "import plotly.graph_objs as go"
   ]
  },
  {
   "cell_type": "markdown",
   "metadata": {},
   "source": [
    "## Kernel"
   ]
  },
  {
   "cell_type": "code",
   "execution_count": 4,
   "metadata": {},
   "outputs": [],
   "source": [
    "from sklearn.preprocessing import StandardScaler\n",
    "from sklearn.model_selection import train_test_split, GridSearchCV"
   ]
  },
  {
   "cell_type": "code",
   "execution_count": 5,
   "metadata": {},
   "outputs": [],
   "source": [
    "df = pd.read_pickle('table_from_aws.pkl')"
   ]
  },
  {
   "cell_type": "code",
   "execution_count": 6,
   "metadata": {},
   "outputs": [],
   "source": [
    "y = df[\"result_2016\"]\n",
    "X = df.iloc[:,1:44]\n",
    "X_train, X_test, y_train, y_test = train_test_split(X, y, test_size=0.3,random_state=42, stratify = y)\n",
    "ssX = StandardScaler()\n",
    "X_train_scaled = ssX.fit_transform(X_train)\n",
    "X_test_scaled = ssX.transform(X_test)"
   ]
  },
  {
   "cell_type": "code",
   "execution_count": 7,
   "metadata": {},
   "outputs": [
    {
     "data": {
      "text/plain": [
       "(2177, 43)"
      ]
     },
     "execution_count": 7,
     "metadata": {},
     "output_type": "execute_result"
    }
   ],
   "source": [
    "X_train.shape"
   ]
  },
  {
   "cell_type": "code",
   "execution_count": 8,
   "metadata": {},
   "outputs": [
    {
     "data": {
      "text/plain": [
       "(934, 43)"
      ]
     },
     "execution_count": 8,
     "metadata": {},
     "output_type": "execute_result"
    }
   ],
   "source": [
    "X_test.shape"
   ]
  },
  {
   "cell_type": "code",
   "execution_count": 9,
   "metadata": {},
   "outputs": [],
   "source": [
    "from sklearn.svm import SVC"
   ]
  },
  {
   "cell_type": "code",
   "execution_count": 10,
   "metadata": {},
   "outputs": [
    {
     "data": {
      "text/plain": [
       "GridSearchCV(cv=10, error_score='raise',\n",
       "       estimator=SVC(C=1.0, cache_size=200, class_weight=None, coef0=0.0,\n",
       "  decision_function_shape='ovr', degree=3, gamma='auto', kernel='rbf',\n",
       "  max_iter=-1, probability=True, random_state=None, shrinking=True,\n",
       "  tol=0.001, verbose=False),\n",
       "       fit_params=None, iid=True, n_jobs=1,\n",
       "       param_grid=[{'kernel': ['rbf'], 'gamma': [0.01, 0.001, 0.0001], 'C': [70, 75, 80, 90]}],\n",
       "       pre_dispatch='2*n_jobs', refit=True, return_train_score='warn',\n",
       "       scoring='roc_auc', verbose=0)"
      ]
     },
     "execution_count": 10,
     "metadata": {},
     "output_type": "execute_result"
    }
   ],
   "source": [
    "tbf_params = [{'kernel': ['rbf'], 'gamma': [1e-2, 1e-3, 1e-4], 'C':[70, 75, 80, 90]}]\n",
    "rbf1 = GridSearchCV(SVC(probability=True), tbf_params, cv=10, scoring = \"roc_auc\")\n",
    "rbf1.fit(X_train_scaled, y_train)"
   ]
  },
  {
   "cell_type": "code",
   "execution_count": 11,
   "metadata": {},
   "outputs": [],
   "source": [
    "y_train_predict_rbf1 = rbf1.predict_proba(X_train_scaled)[:,1]\n",
    "y_test_predict_rbf1 = rbf1.predict_proba(X_test_scaled)[:,1]"
   ]
  },
  {
   "cell_type": "code",
   "execution_count": 12,
   "metadata": {},
   "outputs": [],
   "source": [
    "y_predict = np.concatenate((y_test_predict_rbf1, y_train_predict_rbf1),axis=0)"
   ]
  },
  {
   "cell_type": "code",
   "execution_count": 13,
   "metadata": {},
   "outputs": [],
   "source": [
    "y_predict_hard = rbf1.predict(X_test_scaled)"
   ]
  },
  {
   "cell_type": "code",
   "execution_count": 14,
   "metadata": {},
   "outputs": [],
   "source": [
    "y_predict_hard_full = np.concatenate((y_predict_hard, y_train), axis=0)"
   ]
  },
  {
   "cell_type": "code",
   "execution_count": 15,
   "metadata": {},
   "outputs": [
    {
     "data": {
      "text/plain": [
       "array([[110,  36],\n",
       "       [ 13, 775]])"
      ]
     },
     "execution_count": 15,
     "metadata": {},
     "output_type": "execute_result"
    }
   ],
   "source": [
    "confusion_matrix(y_test, y_predict_hard )"
   ]
  },
  {
   "cell_type": "code",
   "execution_count": 16,
   "metadata": {},
   "outputs": [
    {
     "data": {
      "text/plain": [
       "array([[  75,  411],\n",
       "       [ 388, 2237]])"
      ]
     },
     "execution_count": 16,
     "metadata": {},
     "output_type": "execute_result"
    }
   ],
   "source": [
    "confusion_matrix(y, y_predict_hard_full )"
   ]
  },
  {
   "cell_type": "code",
   "execution_count": 17,
   "metadata": {},
   "outputs": [
    {
     "data": {
      "image/png": "[encoded data removed]",
      "text/plain": [
       "<matplotlib.figure.Figure at 0x1a108f8470>"
      ]
     },
     "metadata": {},
     "output_type": "display_data"
    }
   ],
   "source": [
    "rbf_confusion = confusion_matrix(y, y_predict_hard_full)\n",
    "plt.figure(dpi=150)\n",
    "sns.heatmap(rbf_confusion, cmap=plt.cm.Greens, annot=True, square=True)\n",
    "\n",
    "plt.xlabel('Predicted Outcome')\n",
    "plt.ylabel('Actual Outcome')\n",
    "plt.title('RBF confusion matrix');"
   ]
  },
  {
   "cell_type": "code",
   "execution_count": 18,
   "metadata": {},
   "outputs": [
    {
     "data": {
      "image/png": "[encoded data removed]",
      "text/plain": [
       "<matplotlib.figure.Figure at 0x1a163fdba8>"
      ]
     },
     "metadata": {},
     "output_type": "display_data"
    }
   ],
   "source": [
    "rbf_confusion = confusion_matrix(y_test, y_predict_hard)\n",
    "plt.figure(dpi=150)\n",
    "sns.heatmap(rbf_confusion, cmap=plt.cm.Greens, annot=True, square=True)\n",
    "\n",
    "plt.xlabel('Predicted Outcome')\n",
    "plt.ylabel('Actual Outcome')\n",
    "plt.title('RBF confusion matrix');"
   ]
  },
  {
   "cell_type": "code",
   "execution_count": 19,
   "metadata": {},
   "outputs": [],
   "source": [
    "order_of_train_set = X_train.index\n",
    "train_fips = df.loc[order_of_train_set, 'fips'].values"
   ]
  },
  {
   "cell_type": "code",
   "execution_count": 20,
   "metadata": {},
   "outputs": [],
   "source": [
    "order_of_test_set = X_test.index\n",
    "test_fips = df.loc[order_of_test_set, 'fips'].values"
   ]
  },
  {
   "cell_type": "code",
   "execution_count": 21,
   "metadata": {},
   "outputs": [],
   "source": [
    "predict_fips = np.concatenate((test_fips, train_fips), axis=0)"
   ]
  },
  {
   "cell_type": "code",
   "execution_count": 22,
   "metadata": {},
   "outputs": [],
   "source": [
    "county_likelihood = np.concatenate((predict_fips.reshape(-1,1), y_predict.reshape(-1,1)), axis=1)"
   ]
  },
  {
   "cell_type": "code",
   "execution_count": 23,
   "metadata": {},
   "outputs": [],
   "source": [
    "df2 = pd.DataFrame(county_likelihood, columns=['fips','probability'])"
   ]
  },
  {
   "cell_type": "code",
   "execution_count": 24,
   "metadata": {},
   "outputs": [],
   "source": [
    "fips = df2['fips'].tolist()\n",
    "values=df2['probability'].tolist()\n",
    "colorscale = [\"#CB4335\",\"#E74C3C\",\"#EC7063\",\"#F1948A\",\"#F5B7B1\",\"#FADBD8\",\"#FDEDEC\",\n",
    "              \"#EBF5FB\",\"#D6EAF8\",\"#AED6F1\",\"#85C1E9\",\"#5DADE2\",\"#3498DB\",\"#2E86C1\"]\n",
    "endpts = list(np.linspace(0, 1, len(colorscale) - 1))"
   ]
  },
  {
   "cell_type": "code",
   "execution_count": 25,
   "metadata": {},
   "outputs": [
    {
     "name": "stdout",
     "output_type": "stream",
     "text": [
      "The draw time for this plot will be slow for clients without much RAM.\n"
     ]
    },
    {
     "name": "stderr",
     "output_type": "stream",
     "text": [
      "/anaconda3/lib/python3.6/site-packages/plotly/api/v1/clientresp.py:40: UserWarning:\n",
      "\n",
      "Estimated Draw Time Slow\n",
      "\n"
     ]
    },
    {
     "data": {
      "text/html": [
       "<iframe id=\"igraph\" scrolling=\"no\" style=\"border:none;\" seamless=\"seamless\" src=\"https://plot.ly/~mizhao2018/4.embed\" height=\"450px\" width=\"900px\"></iframe>"
      ],
      "text/plain": [
       "<plotly.tools.PlotlyDisplay object>"
      ]
     },
     "execution_count": 25,
     "metadata": {},
     "output_type": "execute_result"
    }
   ],
   "source": [
    "fig = ff.create_choropleth(\n",
    "    fips=fips, values=values,\n",
    "    binning_endpoints=endpts,\n",
    "    show_state_data=False,\n",
    "    show_hover=True, centroid_marker={'opacity': 0},\n",
    "    colorscale = colorscale,\n",
    "    asp=2.9, title='Vote by Party',\n",
    "    legend_title='Likelihood to vote for Democrat'\n",
    ")\n",
    "py.iplot(fig, filename='vote_by_party_likelihood')"
   ]
  },
  {
   "cell_type": "markdown",
   "metadata": {},
   "source": [
    "## Make a histogram with Probability"
   ]
  },
  {
   "cell_type": "code",
   "execution_count": 26,
   "metadata": {},
   "outputs": [],
   "source": [
    "df3 = pd.merge(df2,df[['result_2016','fips']],how='inner', on=['fips'])"
   ]
  },
  {
   "cell_type": "code",
   "execution_count": 27,
   "metadata": {},
   "outputs": [
    {
     "data": {
      "text/html": [
       "<div>\n",
       "<style scoped>\n",
       "    .dataframe tbody tr th:only-of-type {\n",
       "        vertical-align: middle;\n",
       "    }\n",
       "\n",
       "    .dataframe tbody tr th {\n",
       "        vertical-align: top;\n",
       "    }\n",
       "\n",
       "    .dataframe thead th {\n",
       "        text-align: right;\n",
       "    }\n",
       "</style>\n",
       "<table border=\"1\" class=\"dataframe\">\n",
       "  <thead>\n",
       "    <tr style=\"text-align: right;\">\n",
       "      <th></th>\n",
       "      <th>fips</th>\n",
       "      <th>probability</th>\n",
       "      <th>result_2016</th>\n",
       "    </tr>\n",
       "  </thead>\n",
       "  <tbody>\n",
       "    <tr>\n",
       "      <th>0</th>\n",
       "      <td>26095</td>\n",
       "      <td>0.959814</td>\n",
       "      <td>1</td>\n",
       "    </tr>\n",
       "    <tr>\n",
       "      <th>1</th>\n",
       "      <td>48475</td>\n",
       "      <td>0.970035</td>\n",
       "      <td>1</td>\n",
       "    </tr>\n",
       "    <tr>\n",
       "      <th>2</th>\n",
       "      <td>37161</td>\n",
       "      <td>0.996046</td>\n",
       "      <td>1</td>\n",
       "    </tr>\n",
       "    <tr>\n",
       "      <th>3</th>\n",
       "      <td>48077</td>\n",
       "      <td>1</td>\n",
       "      <td>1</td>\n",
       "    </tr>\n",
       "    <tr>\n",
       "      <th>4</th>\n",
       "      <td>37183</td>\n",
       "      <td>0.0384981</td>\n",
       "      <td>0</td>\n",
       "    </tr>\n",
       "  </tbody>\n",
       "</table>\n",
       "</div>"
      ],
      "text/plain": [
       "    fips probability  result_2016\n",
       "0  26095    0.959814            1\n",
       "1  48475    0.970035            1\n",
       "2  37161    0.996046            1\n",
       "3  48077           1            1\n",
       "4  37183   0.0384981            0"
      ]
     },
     "execution_count": 27,
     "metadata": {},
     "output_type": "execute_result"
    }
   ],
   "source": [
    "df3.head(5)"
   ]
  },
  {
   "cell_type": "code",
   "execution_count": 28,
   "metadata": {
    "scrolled": false
   },
   "outputs": [
    {
     "data": {
      "text/html": [
       "<iframe id=\"igraph\" scrolling=\"no\" style=\"border:none;\" seamless=\"seamless\" src=\"https://plot.ly/~mizhao2018/10.embed\" height=\"525px\" width=\"100%\"></iframe>"
      ],
      "text/plain": [
       "<plotly.tools.PlotlyDisplay object>"
      ]
     },
     "execution_count": 28,
     "metadata": {},
     "output_type": "execute_result"
    }
   ],
   "source": [
    "x0 = df2[df3.result_2016==0].values[:,1]\n",
    "x1 = df2[df3.result_2016==1].values[:,1]\n",
    "\n",
    "trace1 = go.Histogram(\n",
    "    x=x0,\n",
    "    name = 'Voted Republican',\n",
    "    marker = dict(\n",
    "        color='#CB4335'\n",
    "    ),\n",
    "    opacity=1,\n",
    ")\n",
    "trace2 = go.Histogram(\n",
    "    x=x1,\n",
    "    name='Voted Democrat',\n",
    "    marker = dict(\n",
    "        color = '#3498DB'\n",
    "    ),\n",
    "    opacity=0.5,\n",
    ")\n",
    "    \n",
    "data = [trace1, trace2]\n",
    "layout = go.Layout(\n",
    "        barmode='overlay', \n",
    "        title=\"Predicted vs. Outcome\", \n",
    "        xaxis = dict(\n",
    "            title='Likelihood of voting for Democrat'\n",
    "        ),\n",
    "        yaxis = dict(\n",
    "            title = 'Number of Actual Votes by Party'\n",
    "        )\n",
    ")\n",
    "fig = go.Figure(data=data, layout=layout)\n",
    "\n",
    "py.iplot(fig, filename='Predicted vs. Outcome')"
   ]
  },
  {
   "cell_type": "code",
   "execution_count": 29,
   "metadata": {},
   "outputs": [
    {
     "data": {
      "text/html": [
       "<iframe id=\"igraph\" scrolling=\"no\" style=\"border:none;\" seamless=\"seamless\" src=\"https://plot.ly/~mizhao2018/8.embed\" height=\"525px\" width=\"100%\"></iframe>"
      ],
      "text/plain": [
       "<plotly.tools.PlotlyDisplay object>"
      ]
     },
     "execution_count": 29,
     "metadata": {},
     "output_type": "execute_result"
    }
   ],
   "source": [
    "x = df2.probability\n",
    "data = [go.Histogram(x=x)]\n",
    "\n",
    "py.iplot(data, filename='initial histogram')"
   ]
  },
  {
   "cell_type": "markdown",
   "metadata": {},
   "source": [
    "## Plotting the probability that the prediction is wrong"
   ]
  },
  {
   "cell_type": "code",
   "execution_count": 30,
   "metadata": {},
   "outputs": [
    {
     "data": {
      "text/html": [
       "<div>\n",
       "<style scoped>\n",
       "    .dataframe tbody tr th:only-of-type {\n",
       "        vertical-align: middle;\n",
       "    }\n",
       "\n",
       "    .dataframe tbody tr th {\n",
       "        vertical-align: top;\n",
       "    }\n",
       "\n",
       "    .dataframe thead th {\n",
       "        text-align: right;\n",
       "    }\n",
       "</style>\n",
       "<table border=\"1\" class=\"dataframe\">\n",
       "  <thead>\n",
       "    <tr style=\"text-align: right;\">\n",
       "      <th></th>\n",
       "      <th>fips</th>\n",
       "      <th>probability</th>\n",
       "      <th>result_2016</th>\n",
       "    </tr>\n",
       "  </thead>\n",
       "  <tbody>\n",
       "    <tr>\n",
       "      <th>0</th>\n",
       "      <td>26095</td>\n",
       "      <td>0.959814</td>\n",
       "      <td>1</td>\n",
       "    </tr>\n",
       "    <tr>\n",
       "      <th>1</th>\n",
       "      <td>48475</td>\n",
       "      <td>0.970035</td>\n",
       "      <td>1</td>\n",
       "    </tr>\n",
       "    <tr>\n",
       "      <th>2</th>\n",
       "      <td>37161</td>\n",
       "      <td>0.996046</td>\n",
       "      <td>1</td>\n",
       "    </tr>\n",
       "    <tr>\n",
       "      <th>3</th>\n",
       "      <td>48077</td>\n",
       "      <td>1</td>\n",
       "      <td>1</td>\n",
       "    </tr>\n",
       "    <tr>\n",
       "      <th>4</th>\n",
       "      <td>37183</td>\n",
       "      <td>0.0384981</td>\n",
       "      <td>0</td>\n",
       "    </tr>\n",
       "  </tbody>\n",
       "</table>\n",
       "</div>"
      ],
      "text/plain": [
       "    fips probability  result_2016\n",
       "0  26095    0.959814            1\n",
       "1  48475    0.970035            1\n",
       "2  37161    0.996046            1\n",
       "3  48077           1            1\n",
       "4  37183   0.0384981            0"
      ]
     },
     "execution_count": 30,
     "metadata": {},
     "output_type": "execute_result"
    }
   ],
   "source": [
    "df3.head(5)"
   ]
  },
  {
   "cell_type": "code",
   "execution_count": 31,
   "metadata": {},
   "outputs": [],
   "source": [
    "df3['diff']=df3.probability - df3.result_2016"
   ]
  },
  {
   "cell_type": "code",
   "execution_count": 32,
   "metadata": {},
   "outputs": [
    {
     "data": {
      "text/html": [
       "<div>\n",
       "<style scoped>\n",
       "    .dataframe tbody tr th:only-of-type {\n",
       "        vertical-align: middle;\n",
       "    }\n",
       "\n",
       "    .dataframe tbody tr th {\n",
       "        vertical-align: top;\n",
       "    }\n",
       "\n",
       "    .dataframe thead th {\n",
       "        text-align: right;\n",
       "    }\n",
       "</style>\n",
       "<table border=\"1\" class=\"dataframe\">\n",
       "  <thead>\n",
       "    <tr style=\"text-align: right;\">\n",
       "      <th></th>\n",
       "      <th>fips</th>\n",
       "      <th>probability</th>\n",
       "      <th>result_2016</th>\n",
       "      <th>diff</th>\n",
       "    </tr>\n",
       "  </thead>\n",
       "  <tbody>\n",
       "    <tr>\n",
       "      <th>0</th>\n",
       "      <td>26095</td>\n",
       "      <td>0.959814</td>\n",
       "      <td>1</td>\n",
       "      <td>-0.0401861</td>\n",
       "    </tr>\n",
       "    <tr>\n",
       "      <th>1</th>\n",
       "      <td>48475</td>\n",
       "      <td>0.970035</td>\n",
       "      <td>1</td>\n",
       "      <td>-0.0299646</td>\n",
       "    </tr>\n",
       "    <tr>\n",
       "      <th>2</th>\n",
       "      <td>37161</td>\n",
       "      <td>0.996046</td>\n",
       "      <td>1</td>\n",
       "      <td>-0.00395416</td>\n",
       "    </tr>\n",
       "    <tr>\n",
       "      <th>3</th>\n",
       "      <td>48077</td>\n",
       "      <td>1</td>\n",
       "      <td>1</td>\n",
       "      <td>-2.2904e-07</td>\n",
       "    </tr>\n",
       "    <tr>\n",
       "      <th>4</th>\n",
       "      <td>37183</td>\n",
       "      <td>0.0384981</td>\n",
       "      <td>0</td>\n",
       "      <td>0.0384981</td>\n",
       "    </tr>\n",
       "  </tbody>\n",
       "</table>\n",
       "</div>"
      ],
      "text/plain": [
       "    fips probability  result_2016        diff\n",
       "0  26095    0.959814            1  -0.0401861\n",
       "1  48475    0.970035            1  -0.0299646\n",
       "2  37161    0.996046            1 -0.00395416\n",
       "3  48077           1            1 -2.2904e-07\n",
       "4  37183   0.0384981            0   0.0384981"
      ]
     },
     "execution_count": 32,
     "metadata": {},
     "output_type": "execute_result"
    }
   ],
   "source": [
    "df3.head(5)"
   ]
  },
  {
   "cell_type": "code",
   "execution_count": 33,
   "metadata": {},
   "outputs": [],
   "source": [
    "df3['predicted']= np.where(df3['probability']>=0.5, 1, 0)"
   ]
  },
  {
   "cell_type": "code",
   "execution_count": 34,
   "metadata": {},
   "outputs": [],
   "source": [
    "df3.drop(columns=['diff'], inplace=True)"
   ]
  },
  {
   "cell_type": "code",
   "execution_count": 35,
   "metadata": {},
   "outputs": [],
   "source": [
    "df3['diff'] = df3['probability'] - df3['result_2016']\n",
    "df3_different = df3[df3.result_2016!=df3.predicted]"
   ]
  },
  {
   "cell_type": "code",
   "execution_count": 36,
   "metadata": {},
   "outputs": [
    {
     "data": {
      "text/html": [
       "<div>\n",
       "<style scoped>\n",
       "    .dataframe tbody tr th:only-of-type {\n",
       "        vertical-align: middle;\n",
       "    }\n",
       "\n",
       "    .dataframe tbody tr th {\n",
       "        vertical-align: top;\n",
       "    }\n",
       "\n",
       "    .dataframe thead th {\n",
       "        text-align: right;\n",
       "    }\n",
       "</style>\n",
       "<table border=\"1\" class=\"dataframe\">\n",
       "  <thead>\n",
       "    <tr style=\"text-align: right;\">\n",
       "      <th></th>\n",
       "      <th>fips</th>\n",
       "      <th>probability</th>\n",
       "      <th>result_2016</th>\n",
       "      <th>predicted</th>\n",
       "      <th>diff</th>\n",
       "    </tr>\n",
       "  </thead>\n",
       "  <tbody>\n",
       "    <tr>\n",
       "      <th>574</th>\n",
       "      <td>06037</td>\n",
       "      <td>1</td>\n",
       "      <td>0</td>\n",
       "      <td>1</td>\n",
       "      <td>1</td>\n",
       "    </tr>\n",
       "    <tr>\n",
       "      <th>3062</th>\n",
       "      <td>55049</td>\n",
       "      <td>0.990801</td>\n",
       "      <td>0</td>\n",
       "      <td>1</td>\n",
       "      <td>0.990801</td>\n",
       "    </tr>\n",
       "    <tr>\n",
       "      <th>1353</th>\n",
       "      <td>55045</td>\n",
       "      <td>0.983078</td>\n",
       "      <td>0</td>\n",
       "      <td>1</td>\n",
       "      <td>0.983078</td>\n",
       "    </tr>\n",
       "    <tr>\n",
       "      <th>903</th>\n",
       "      <td>41041</td>\n",
       "      <td>0.974691</td>\n",
       "      <td>0</td>\n",
       "      <td>1</td>\n",
       "      <td>0.974691</td>\n",
       "    </tr>\n",
       "    <tr>\n",
       "      <th>278</th>\n",
       "      <td>26121</td>\n",
       "      <td>0.965902</td>\n",
       "      <td>0</td>\n",
       "      <td>1</td>\n",
       "      <td>0.965902</td>\n",
       "    </tr>\n",
       "    <tr>\n",
       "      <th>1154</th>\n",
       "      <td>06033</td>\n",
       "      <td>0.964559</td>\n",
       "      <td>0</td>\n",
       "      <td>1</td>\n",
       "      <td>0.964559</td>\n",
       "    </tr>\n",
       "    <tr>\n",
       "      <th>247</th>\n",
       "      <td>23027</td>\n",
       "      <td>0.958315</td>\n",
       "      <td>0</td>\n",
       "      <td>1</td>\n",
       "      <td>0.958315</td>\n",
       "    </tr>\n",
       "    <tr>\n",
       "      <th>825</th>\n",
       "      <td>55003</td>\n",
       "      <td>0.957688</td>\n",
       "      <td>0</td>\n",
       "      <td>1</td>\n",
       "      <td>0.957688</td>\n",
       "    </tr>\n",
       "    <tr>\n",
       "      <th>2008</th>\n",
       "      <td>39099</td>\n",
       "      <td>0.956928</td>\n",
       "      <td>0</td>\n",
       "      <td>1</td>\n",
       "      <td>0.956928</td>\n",
       "    </tr>\n",
       "    <tr>\n",
       "      <th>2099</th>\n",
       "      <td>51131</td>\n",
       "      <td>0.952187</td>\n",
       "      <td>0</td>\n",
       "      <td>1</td>\n",
       "      <td>0.952187</td>\n",
       "    </tr>\n",
       "    <tr>\n",
       "      <th>115</th>\n",
       "      <td>41007</td>\n",
       "      <td>0.948507</td>\n",
       "      <td>0</td>\n",
       "      <td>1</td>\n",
       "      <td>0.948507</td>\n",
       "    </tr>\n",
       "    <tr>\n",
       "      <th>479</th>\n",
       "      <td>42069</td>\n",
       "      <td>0.946095</td>\n",
       "      <td>0</td>\n",
       "      <td>1</td>\n",
       "      <td>0.946095</td>\n",
       "    </tr>\n",
       "    <tr>\n",
       "      <th>188</th>\n",
       "      <td>41027</td>\n",
       "      <td>0.945294</td>\n",
       "      <td>0</td>\n",
       "      <td>1</td>\n",
       "      <td>0.945294</td>\n",
       "    </tr>\n",
       "    <tr>\n",
       "      <th>2514</th>\n",
       "      <td>26103</td>\n",
       "      <td>0.939677</td>\n",
       "      <td>0</td>\n",
       "      <td>1</td>\n",
       "      <td>0.939677</td>\n",
       "    </tr>\n",
       "    <tr>\n",
       "      <th>381</th>\n",
       "      <td>30093</td>\n",
       "      <td>0.937703</td>\n",
       "      <td>0</td>\n",
       "      <td>1</td>\n",
       "      <td>0.937703</td>\n",
       "    </tr>\n",
       "    <tr>\n",
       "      <th>2970</th>\n",
       "      <td>51790</td>\n",
       "      <td>0.926727</td>\n",
       "      <td>0</td>\n",
       "      <td>1</td>\n",
       "      <td>0.926727</td>\n",
       "    </tr>\n",
       "    <tr>\n",
       "      <th>35</th>\n",
       "      <td>13097</td>\n",
       "      <td>0.910015</td>\n",
       "      <td>0</td>\n",
       "      <td>1</td>\n",
       "      <td>0.910015</td>\n",
       "    </tr>\n",
       "    <tr>\n",
       "      <th>2199</th>\n",
       "      <td>19113</td>\n",
       "      <td>0.909809</td>\n",
       "      <td>0</td>\n",
       "      <td>1</td>\n",
       "      <td>0.909809</td>\n",
       "    </tr>\n",
       "    <tr>\n",
       "      <th>1567</th>\n",
       "      <td>53057</td>\n",
       "      <td>0.904341</td>\n",
       "      <td>0</td>\n",
       "      <td>1</td>\n",
       "      <td>0.904341</td>\n",
       "    </tr>\n",
       "    <tr>\n",
       "      <th>23</th>\n",
       "      <td>23023</td>\n",
       "      <td>0.903177</td>\n",
       "      <td>0</td>\n",
       "      <td>1</td>\n",
       "      <td>0.903177</td>\n",
       "    </tr>\n",
       "    <tr>\n",
       "      <th>752</th>\n",
       "      <td>17161</td>\n",
       "      <td>0.898054</td>\n",
       "      <td>0</td>\n",
       "      <td>1</td>\n",
       "      <td>0.898054</td>\n",
       "    </tr>\n",
       "    <tr>\n",
       "      <th>875</th>\n",
       "      <td>27075</td>\n",
       "      <td>0.895996</td>\n",
       "      <td>0</td>\n",
       "      <td>1</td>\n",
       "      <td>0.895996</td>\n",
       "    </tr>\n",
       "    <tr>\n",
       "      <th>1244</th>\n",
       "      <td>18141</td>\n",
       "      <td>0.892388</td>\n",
       "      <td>0</td>\n",
       "      <td>1</td>\n",
       "      <td>0.892388</td>\n",
       "    </tr>\n",
       "    <tr>\n",
       "      <th>1272</th>\n",
       "      <td>55031</td>\n",
       "      <td>0.873942</td>\n",
       "      <td>0</td>\n",
       "      <td>1</td>\n",
       "      <td>0.873942</td>\n",
       "    </tr>\n",
       "    <tr>\n",
       "      <th>552</th>\n",
       "      <td>50013</td>\n",
       "      <td>0.864665</td>\n",
       "      <td>0</td>\n",
       "      <td>1</td>\n",
       "      <td>0.864665</td>\n",
       "    </tr>\n",
       "    <tr>\n",
       "      <th>2307</th>\n",
       "      <td>33017</td>\n",
       "      <td>0.861021</td>\n",
       "      <td>0</td>\n",
       "      <td>1</td>\n",
       "      <td>0.861021</td>\n",
       "    </tr>\n",
       "    <tr>\n",
       "      <th>1155</th>\n",
       "      <td>55097</td>\n",
       "      <td>0.858155</td>\n",
       "      <td>0</td>\n",
       "      <td>1</td>\n",
       "      <td>0.858155</td>\n",
       "    </tr>\n",
       "    <tr>\n",
       "      <th>2843</th>\n",
       "      <td>37195</td>\n",
       "      <td>0.849891</td>\n",
       "      <td>0</td>\n",
       "      <td>1</td>\n",
       "      <td>0.849891</td>\n",
       "    </tr>\n",
       "    <tr>\n",
       "      <th>486</th>\n",
       "      <td>42017</td>\n",
       "      <td>0.838928</td>\n",
       "      <td>0</td>\n",
       "      <td>1</td>\n",
       "      <td>0.838928</td>\n",
       "    </tr>\n",
       "    <tr>\n",
       "      <th>2976</th>\n",
       "      <td>42089</td>\n",
       "      <td>0.837371</td>\n",
       "      <td>0</td>\n",
       "      <td>1</td>\n",
       "      <td>0.837371</td>\n",
       "    </tr>\n",
       "    <tr>\n",
       "      <th>...</th>\n",
       "      <td>...</td>\n",
       "      <td>...</td>\n",
       "      <td>...</td>\n",
       "      <td>...</td>\n",
       "      <td>...</td>\n",
       "    </tr>\n",
       "    <tr>\n",
       "      <th>1929</th>\n",
       "      <td>48085</td>\n",
       "      <td>0.443849</td>\n",
       "      <td>1</td>\n",
       "      <td>0</td>\n",
       "      <td>-0.556151</td>\n",
       "    </tr>\n",
       "    <tr>\n",
       "      <th>2116</th>\n",
       "      <td>06107</td>\n",
       "      <td>0.437258</td>\n",
       "      <td>1</td>\n",
       "      <td>0</td>\n",
       "      <td>-0.562742</td>\n",
       "    </tr>\n",
       "    <tr>\n",
       "      <th>710</th>\n",
       "      <td>47069</td>\n",
       "      <td>0.436502</td>\n",
       "      <td>1</td>\n",
       "      <td>0</td>\n",
       "      <td>-0.563498</td>\n",
       "    </tr>\n",
       "    <tr>\n",
       "      <th>881</th>\n",
       "      <td>45013</td>\n",
       "      <td>0.421424</td>\n",
       "      <td>1</td>\n",
       "      <td>0</td>\n",
       "      <td>-0.578576</td>\n",
       "    </tr>\n",
       "    <tr>\n",
       "      <th>2662</th>\n",
       "      <td>51810</td>\n",
       "      <td>0.412281</td>\n",
       "      <td>1</td>\n",
       "      <td>0</td>\n",
       "      <td>-0.587719</td>\n",
       "    </tr>\n",
       "    <tr>\n",
       "      <th>1660</th>\n",
       "      <td>34027</td>\n",
       "      <td>0.406453</td>\n",
       "      <td>1</td>\n",
       "      <td>0</td>\n",
       "      <td>-0.593547</td>\n",
       "    </tr>\n",
       "    <tr>\n",
       "      <th>34</th>\n",
       "      <td>45011</td>\n",
       "      <td>0.402268</td>\n",
       "      <td>1</td>\n",
       "      <td>0</td>\n",
       "      <td>-0.597732</td>\n",
       "    </tr>\n",
       "    <tr>\n",
       "      <th>1423</th>\n",
       "      <td>36027</td>\n",
       "      <td>0.365699</td>\n",
       "      <td>1</td>\n",
       "      <td>0</td>\n",
       "      <td>-0.634301</td>\n",
       "    </tr>\n",
       "    <tr>\n",
       "      <th>356</th>\n",
       "      <td>08021</td>\n",
       "      <td>0.341389</td>\n",
       "      <td>1</td>\n",
       "      <td>0</td>\n",
       "      <td>-0.658611</td>\n",
       "    </tr>\n",
       "    <tr>\n",
       "      <th>2795</th>\n",
       "      <td>22061</td>\n",
       "      <td>0.340874</td>\n",
       "      <td>1</td>\n",
       "      <td>0</td>\n",
       "      <td>-0.659126</td>\n",
       "    </tr>\n",
       "    <tr>\n",
       "      <th>901</th>\n",
       "      <td>18157</td>\n",
       "      <td>0.323103</td>\n",
       "      <td>1</td>\n",
       "      <td>0</td>\n",
       "      <td>-0.676897</td>\n",
       "    </tr>\n",
       "    <tr>\n",
       "      <th>1939</th>\n",
       "      <td>20091</td>\n",
       "      <td>0.316123</td>\n",
       "      <td>1</td>\n",
       "      <td>0</td>\n",
       "      <td>-0.683877</td>\n",
       "    </tr>\n",
       "    <tr>\n",
       "      <th>773</th>\n",
       "      <td>06101</td>\n",
       "      <td>0.315365</td>\n",
       "      <td>1</td>\n",
       "      <td>0</td>\n",
       "      <td>-0.684635</td>\n",
       "    </tr>\n",
       "    <tr>\n",
       "      <th>3094</th>\n",
       "      <td>45065</td>\n",
       "      <td>0.309351</td>\n",
       "      <td>1</td>\n",
       "      <td>0</td>\n",
       "      <td>-0.690649</td>\n",
       "    </tr>\n",
       "    <tr>\n",
       "      <th>2739</th>\n",
       "      <td>48439</td>\n",
       "      <td>0.3046</td>\n",
       "      <td>1</td>\n",
       "      <td>0</td>\n",
       "      <td>-0.6954</td>\n",
       "    </tr>\n",
       "    <tr>\n",
       "      <th>693</th>\n",
       "      <td>37155</td>\n",
       "      <td>0.301856</td>\n",
       "      <td>1</td>\n",
       "      <td>0</td>\n",
       "      <td>-0.698144</td>\n",
       "    </tr>\n",
       "    <tr>\n",
       "      <th>1980</th>\n",
       "      <td>24039</td>\n",
       "      <td>0.298675</td>\n",
       "      <td>1</td>\n",
       "      <td>0</td>\n",
       "      <td>-0.701325</td>\n",
       "    </tr>\n",
       "    <tr>\n",
       "      <th>1707</th>\n",
       "      <td>13099</td>\n",
       "      <td>0.257626</td>\n",
       "      <td>1</td>\n",
       "      <td>0</td>\n",
       "      <td>-0.742374</td>\n",
       "    </tr>\n",
       "    <tr>\n",
       "      <th>915</th>\n",
       "      <td>35061</td>\n",
       "      <td>0.257613</td>\n",
       "      <td>1</td>\n",
       "      <td>0</td>\n",
       "      <td>-0.742387</td>\n",
       "    </tr>\n",
       "    <tr>\n",
       "      <th>1242</th>\n",
       "      <td>36085</td>\n",
       "      <td>0.212619</td>\n",
       "      <td>1</td>\n",
       "      <td>0</td>\n",
       "      <td>-0.787381</td>\n",
       "    </tr>\n",
       "    <tr>\n",
       "      <th>1402</th>\n",
       "      <td>12031</td>\n",
       "      <td>0.181029</td>\n",
       "      <td>1</td>\n",
       "      <td>0</td>\n",
       "      <td>-0.818971</td>\n",
       "    </tr>\n",
       "    <tr>\n",
       "      <th>440</th>\n",
       "      <td>36103</td>\n",
       "      <td>0.155061</td>\n",
       "      <td>1</td>\n",
       "      <td>0</td>\n",
       "      <td>-0.844939</td>\n",
       "    </tr>\n",
       "    <tr>\n",
       "      <th>55</th>\n",
       "      <td>48041</td>\n",
       "      <td>0.150757</td>\n",
       "      <td>1</td>\n",
       "      <td>0</td>\n",
       "      <td>-0.849243</td>\n",
       "    </tr>\n",
       "    <tr>\n",
       "      <th>1836</th>\n",
       "      <td>06029</td>\n",
       "      <td>0.144648</td>\n",
       "      <td>1</td>\n",
       "      <td>0</td>\n",
       "      <td>-0.855352</td>\n",
       "    </tr>\n",
       "    <tr>\n",
       "      <th>90</th>\n",
       "      <td>48355</td>\n",
       "      <td>0.134622</td>\n",
       "      <td>1</td>\n",
       "      <td>0</td>\n",
       "      <td>-0.865378</td>\n",
       "    </tr>\n",
       "    <tr>\n",
       "      <th>2748</th>\n",
       "      <td>28149</td>\n",
       "      <td>0.108373</td>\n",
       "      <td>1</td>\n",
       "      <td>0</td>\n",
       "      <td>-0.891627</td>\n",
       "    </tr>\n",
       "    <tr>\n",
       "      <th>2122</th>\n",
       "      <td>20161</td>\n",
       "      <td>0.072635</td>\n",
       "      <td>1</td>\n",
       "      <td>0</td>\n",
       "      <td>-0.927365</td>\n",
       "    </tr>\n",
       "    <tr>\n",
       "      <th>2489</th>\n",
       "      <td>56001</td>\n",
       "      <td>0.0571604</td>\n",
       "      <td>1</td>\n",
       "      <td>0</td>\n",
       "      <td>-0.94284</td>\n",
       "    </tr>\n",
       "    <tr>\n",
       "      <th>1032</th>\n",
       "      <td>08053</td>\n",
       "      <td>0.0562777</td>\n",
       "      <td>1</td>\n",
       "      <td>0</td>\n",
       "      <td>-0.943722</td>\n",
       "    </tr>\n",
       "    <tr>\n",
       "      <th>578</th>\n",
       "      <td>08041</td>\n",
       "      <td>0.0533564</td>\n",
       "      <td>1</td>\n",
       "      <td>0</td>\n",
       "      <td>-0.946644</td>\n",
       "    </tr>\n",
       "  </tbody>\n",
       "</table>\n",
       "<p>140 rows × 5 columns</p>\n",
       "</div>"
      ],
      "text/plain": [
       "       fips probability  result_2016  predicted      diff\n",
       "574   06037           1            0          1         1\n",
       "3062  55049    0.990801            0          1  0.990801\n",
       "1353  55045    0.983078            0          1  0.983078\n",
       "903   41041    0.974691            0          1  0.974691\n",
       "278   26121    0.965902            0          1  0.965902\n",
       "1154  06033    0.964559            0          1  0.964559\n",
       "247   23027    0.958315            0          1  0.958315\n",
       "825   55003    0.957688            0          1  0.957688\n",
       "2008  39099    0.956928            0          1  0.956928\n",
       "2099  51131    0.952187            0          1  0.952187\n",
       "115   41007    0.948507            0          1  0.948507\n",
       "479   42069    0.946095            0          1  0.946095\n",
       "188   41027    0.945294            0          1  0.945294\n",
       "2514  26103    0.939677            0          1  0.939677\n",
       "381   30093    0.937703            0          1  0.937703\n",
       "2970  51790    0.926727            0          1  0.926727\n",
       "35    13097    0.910015            0          1  0.910015\n",
       "2199  19113    0.909809            0          1  0.909809\n",
       "1567  53057    0.904341            0          1  0.904341\n",
       "23    23023    0.903177            0          1  0.903177\n",
       "752   17161    0.898054            0          1  0.898054\n",
       "875   27075    0.895996            0          1  0.895996\n",
       "1244  18141    0.892388            0          1  0.892388\n",
       "1272  55031    0.873942            0          1  0.873942\n",
       "552   50013    0.864665            0          1  0.864665\n",
       "2307  33017    0.861021            0          1  0.861021\n",
       "1155  55097    0.858155            0          1  0.858155\n",
       "2843  37195    0.849891            0          1  0.849891\n",
       "486   42017    0.838928            0          1  0.838928\n",
       "2976  42089    0.837371            0          1  0.837371\n",
       "...     ...         ...          ...        ...       ...\n",
       "1929  48085    0.443849            1          0 -0.556151\n",
       "2116  06107    0.437258            1          0 -0.562742\n",
       "710   47069    0.436502            1          0 -0.563498\n",
       "881   45013    0.421424            1          0 -0.578576\n",
       "2662  51810    0.412281            1          0 -0.587719\n",
       "1660  34027    0.406453            1          0 -0.593547\n",
       "34    45011    0.402268            1          0 -0.597732\n",
       "1423  36027    0.365699            1          0 -0.634301\n",
       "356   08021    0.341389            1          0 -0.658611\n",
       "2795  22061    0.340874            1          0 -0.659126\n",
       "901   18157    0.323103            1          0 -0.676897\n",
       "1939  20091    0.316123            1          0 -0.683877\n",
       "773   06101    0.315365            1          0 -0.684635\n",
       "3094  45065    0.309351            1          0 -0.690649\n",
       "2739  48439      0.3046            1          0   -0.6954\n",
       "693   37155    0.301856            1          0 -0.698144\n",
       "1980  24039    0.298675            1          0 -0.701325\n",
       "1707  13099    0.257626            1          0 -0.742374\n",
       "915   35061    0.257613            1          0 -0.742387\n",
       "1242  36085    0.212619            1          0 -0.787381\n",
       "1402  12031    0.181029            1          0 -0.818971\n",
       "440   36103    0.155061            1          0 -0.844939\n",
       "55    48041    0.150757            1          0 -0.849243\n",
       "1836  06029    0.144648            1          0 -0.855352\n",
       "90    48355    0.134622            1          0 -0.865378\n",
       "2748  28149    0.108373            1          0 -0.891627\n",
       "2122  20161    0.072635            1          0 -0.927365\n",
       "2489  56001   0.0571604            1          0  -0.94284\n",
       "1032  08053   0.0562777            1          0 -0.943722\n",
       "578   08041   0.0533564            1          0 -0.946644\n",
       "\n",
       "[140 rows x 5 columns]"
      ]
     },
     "execution_count": 36,
     "metadata": {},
     "output_type": "execute_result"
    }
   ],
   "source": [
    "df3_different.sort_values('diff',ascending=False)"
   ]
  },
  {
   "cell_type": "code",
   "execution_count": 37,
   "metadata": {},
   "outputs": [],
   "source": [
    "fips = df3['fips'].tolist()\n",
    "values=df3['diff'].tolist()\n",
    "blank = '#ACACAC'\n",
    "colorscale = [\"#CB4335\",\"#E74C3C\",\"#EC7063\", blank, blank, blank, blank,\n",
    "              blank,blank,blank,blank,\"#5DADE2\",\"#3498DB\",\"#2E86C1\"]\n",
    "endpts = list(np.linspace(-1, 1, len(colorscale) - 1))"
   ]
  },
  {
   "cell_type": "code",
   "execution_count": 38,
   "metadata": {},
   "outputs": [
    {
     "name": "stdout",
     "output_type": "stream",
     "text": [
      "The draw time for this plot will be slow for clients without much RAM.\n"
     ]
    },
    {
     "name": "stderr",
     "output_type": "stream",
     "text": [
      "/anaconda3/lib/python3.6/site-packages/plotly/api/v1/clientresp.py:40: UserWarning:\n",
      "\n",
      "Estimated Draw Time Slow\n",
      "\n"
     ]
    },
    {
     "data": {
      "text/html": [
       "<iframe id=\"igraph\" scrolling=\"no\" style=\"border:none;\" seamless=\"seamless\" src=\"https://plot.ly/~mizhao2018/12.embed\" height=\"450px\" width=\"900px\"></iframe>"
      ],
      "text/plain": [
       "<plotly.tools.PlotlyDisplay object>"
      ]
     },
     "execution_count": 38,
     "metadata": {},
     "output_type": "execute_result"
    }
   ],
   "source": [
    "fig = ff.create_choropleth(\n",
    "    fips=fips, values=values,\n",
    "    binning_endpoints=endpts,\n",
    "    show_state_data=False,\n",
    "    show_hover=True, centroid_marker={'opacity': 0},\n",
    "    colorscale = colorscale,\n",
    "    asp=2.9, title='Inaccurate Prediction',\n",
    "    legend_title='Likelihood of wrong prediction'\n",
    ")\n",
    "py.iplot(fig, filename='Likelihood of wrong prediction')"
   ]
  },
  {
   "cell_type": "markdown",
   "metadata": {},
   "source": [
    "## Monte Carlo Simulation"
   ]
  },
  {
   "cell_type": "code",
   "execution_count": 39,
   "metadata": {},
   "outputs": [],
   "source": [
    "stddiv = df.iloc[:,1:-2].std().values.reshape(1,-1)"
   ]
  },
  {
   "cell_type": "code",
   "execution_count": 40,
   "metadata": {},
   "outputs": [
    {
     "data": {
      "text/plain": [
       "(1, 43)"
      ]
     },
     "execution_count": 40,
     "metadata": {},
     "output_type": "execute_result"
    }
   ],
   "source": [
    "stddiv.shape"
   ]
  },
  {
   "cell_type": "code",
   "execution_count": 41,
   "metadata": {},
   "outputs": [
    {
     "name": "stdout",
     "output_type": "stream",
     "text": [
      "CPU times: user 57.7 s, sys: 468 ms, total: 58.1 s\n",
      "Wall time: 58.6 s\n"
     ]
    }
   ],
   "source": [
    "%%time\n",
    "num_simulations, num_counties = 1000, df.shape[0]\n",
    "prediction_outcomes = np.zeros((num_simulations, num_counties))\n",
    "\n",
    "for sim_number in range(num_simulations):\n",
    "    noise = np.random.normal(size=(df.shape[0], stddiv.shape[1]))\n",
    "    \n",
    "    X_new = X.values +  stddiv*noise\n",
    "    X_new_scaled = ssX.transform(X_new)\n",
    "    y_predict = rbf1.predict(X_new_scaled)\n",
    "    \n",
    "    prediction_outcomes[sim_number,:] = y_predict"
   ]
  },
  {
   "cell_type": "code",
   "execution_count": 42,
   "metadata": {},
   "outputs": [
    {
     "data": {
      "text/plain": [
       "(1000, 3111)"
      ]
     },
     "execution_count": 42,
     "metadata": {},
     "output_type": "execute_result"
    }
   ],
   "source": [
    "prediction_outcomes.shape"
   ]
  },
  {
   "cell_type": "code",
   "execution_count": 43,
   "metadata": {},
   "outputs": [],
   "source": [
    "df['mean'] = prediction_outcomes.mean(axis=0).reshape(-1,1)"
   ]
  },
  {
   "cell_type": "code",
   "execution_count": 44,
   "metadata": {},
   "outputs": [
    {
     "data": {
      "text/html": [
       "<div>\n",
       "<style scoped>\n",
       "    .dataframe tbody tr th:only-of-type {\n",
       "        vertical-align: middle;\n",
       "    }\n",
       "\n",
       "    .dataframe tbody tr th {\n",
       "        vertical-align: top;\n",
       "    }\n",
       "\n",
       "    .dataframe thead th {\n",
       "        text-align: right;\n",
       "    }\n",
       "</style>\n",
       "<table border=\"1\" class=\"dataframe\">\n",
       "  <thead>\n",
       "    <tr style=\"text-align: right;\">\n",
       "      <th></th>\n",
       "      <th>county</th>\n",
       "      <th>less_than_high_school_diploma</th>\n",
       "      <th>at_least_high_school_diploma</th>\n",
       "      <th>at_least_bachelorss_degree</th>\n",
       "      <th>graduate_degree</th>\n",
       "      <th>school_enrollment</th>\n",
       "      <th>median_earnings_2010</th>\n",
       "      <th>white_not_latino_population</th>\n",
       "      <th>african_american_population</th>\n",
       "      <th>native_american_population</th>\n",
       "      <th>...</th>\n",
       "      <th>hiv_prevalence_rate</th>\n",
       "      <th>uninsured</th>\n",
       "      <th>unemployment</th>\n",
       "      <th>violent_crime</th>\n",
       "      <th>homicide_rate</th>\n",
       "      <th>injury_deaths</th>\n",
       "      <th>infant_mortality</th>\n",
       "      <th>result_2016</th>\n",
       "      <th>fips</th>\n",
       "      <th>mean</th>\n",
       "    </tr>\n",
       "  </thead>\n",
       "  <tbody>\n",
       "    <tr>\n",
       "      <th>0</th>\n",
       "      <td>Lonoke County, Arkansas</td>\n",
       "      <td>14.2</td>\n",
       "      <td>85.8</td>\n",
       "      <td>16.6</td>\n",
       "      <td>4.9</td>\n",
       "      <td>75.45</td>\n",
       "      <td>28134.093970</td>\n",
       "      <td>88.0</td>\n",
       "      <td>6.35</td>\n",
       "      <td>0.50</td>\n",
       "      <td>...</td>\n",
       "      <td>57.3</td>\n",
       "      <td>0.165</td>\n",
       "      <td>0.061</td>\n",
       "      <td>390.71</td>\n",
       "      <td>4.240000</td>\n",
       "      <td>71.1</td>\n",
       "      <td>6.800</td>\n",
       "      <td>1</td>\n",
       "      <td>05085</td>\n",
       "      <td>0.952</td>\n",
       "    </tr>\n",
       "    <tr>\n",
       "      <th>1</th>\n",
       "      <td>Monroe County, Arkansas</td>\n",
       "      <td>31.4</td>\n",
       "      <td>68.6</td>\n",
       "      <td>12.3</td>\n",
       "      <td>3.7</td>\n",
       "      <td>80.25</td>\n",
       "      <td>20974.931745</td>\n",
       "      <td>56.8</td>\n",
       "      <td>39.90</td>\n",
       "      <td>0.50</td>\n",
       "      <td>...</td>\n",
       "      <td>345.1</td>\n",
       "      <td>0.200</td>\n",
       "      <td>0.084</td>\n",
       "      <td>202.77</td>\n",
       "      <td>9.861842</td>\n",
       "      <td>112.9</td>\n",
       "      <td>8.820</td>\n",
       "      <td>1</td>\n",
       "      <td>05095</td>\n",
       "      <td>0.746</td>\n",
       "    </tr>\n",
       "    <tr>\n",
       "      <th>2</th>\n",
       "      <td>Drew County, Arkansas</td>\n",
       "      <td>19.4</td>\n",
       "      <td>80.6</td>\n",
       "      <td>19.4</td>\n",
       "      <td>5.7</td>\n",
       "      <td>78.50</td>\n",
       "      <td>21988.947300</td>\n",
       "      <td>67.9</td>\n",
       "      <td>27.95</td>\n",
       "      <td>0.15</td>\n",
       "      <td>...</td>\n",
       "      <td>79.9</td>\n",
       "      <td>0.197</td>\n",
       "      <td>0.108</td>\n",
       "      <td>449.02</td>\n",
       "      <td>9.861842</td>\n",
       "      <td>82.0</td>\n",
       "      <td>8.820</td>\n",
       "      <td>1</td>\n",
       "      <td>05043</td>\n",
       "      <td>0.803</td>\n",
       "    </tr>\n",
       "    <tr>\n",
       "      <th>3</th>\n",
       "      <td>Madison County, Arkansas</td>\n",
       "      <td>24.2</td>\n",
       "      <td>75.8</td>\n",
       "      <td>13.4</td>\n",
       "      <td>4.1</td>\n",
       "      <td>76.40</td>\n",
       "      <td>23365.948890</td>\n",
       "      <td>92.0</td>\n",
       "      <td>0.25</td>\n",
       "      <td>1.25</td>\n",
       "      <td>...</td>\n",
       "      <td>131.3</td>\n",
       "      <td>0.239</td>\n",
       "      <td>0.053</td>\n",
       "      <td>245.83</td>\n",
       "      <td>9.861842</td>\n",
       "      <td>96.8</td>\n",
       "      <td>8.820</td>\n",
       "      <td>1</td>\n",
       "      <td>05087</td>\n",
       "      <td>0.973</td>\n",
       "    </tr>\n",
       "    <tr>\n",
       "      <th>4</th>\n",
       "      <td>Jasper County, Georgia</td>\n",
       "      <td>21.7</td>\n",
       "      <td>78.3</td>\n",
       "      <td>13.3</td>\n",
       "      <td>5.6</td>\n",
       "      <td>70.20</td>\n",
       "      <td>25363.060950</td>\n",
       "      <td>72.7</td>\n",
       "      <td>22.20</td>\n",
       "      <td>0.40</td>\n",
       "      <td>...</td>\n",
       "      <td>402.4</td>\n",
       "      <td>0.239</td>\n",
       "      <td>0.096</td>\n",
       "      <td>205.60</td>\n",
       "      <td>6.990811</td>\n",
       "      <td>71.6</td>\n",
       "      <td>9.172</td>\n",
       "      <td>1</td>\n",
       "      <td>13159</td>\n",
       "      <td>0.916</td>\n",
       "    </tr>\n",
       "  </tbody>\n",
       "</table>\n",
       "<p>5 rows × 47 columns</p>\n",
       "</div>"
      ],
      "text/plain": [
       "                     county  less_than_high_school_diploma  \\\n",
       "0   Lonoke County, Arkansas                           14.2   \n",
       "1   Monroe County, Arkansas                           31.4   \n",
       "2     Drew County, Arkansas                           19.4   \n",
       "3  Madison County, Arkansas                           24.2   \n",
       "4    Jasper County, Georgia                           21.7   \n",
       "\n",
       "   at_least_high_school_diploma  at_least_bachelorss_degree  graduate_degree  \\\n",
       "0                          85.8                        16.6              4.9   \n",
       "1                          68.6                        12.3              3.7   \n",
       "2                          80.6                        19.4              5.7   \n",
       "3                          75.8                        13.4              4.1   \n",
       "4                          78.3                        13.3              5.6   \n",
       "\n",
       "   school_enrollment  median_earnings_2010  white_not_latino_population  \\\n",
       "0              75.45          28134.093970                         88.0   \n",
       "1              80.25          20974.931745                         56.8   \n",
       "2              78.50          21988.947300                         67.9   \n",
       "3              76.40          23365.948890                         92.0   \n",
       "4              70.20          25363.060950                         72.7   \n",
       "\n",
       "   african_american_population  native_american_population  ...    \\\n",
       "0                         6.35                        0.50  ...     \n",
       "1                        39.90                        0.50  ...     \n",
       "2                        27.95                        0.15  ...     \n",
       "3                         0.25                        1.25  ...     \n",
       "4                        22.20                        0.40  ...     \n",
       "\n",
       "   hiv_prevalence_rate  uninsured  unemployment  violent_crime  homicide_rate  \\\n",
       "0                 57.3      0.165         0.061         390.71       4.240000   \n",
       "1                345.1      0.200         0.084         202.77       9.861842   \n",
       "2                 79.9      0.197         0.108         449.02       9.861842   \n",
       "3                131.3      0.239         0.053         245.83       9.861842   \n",
       "4                402.4      0.239         0.096         205.60       6.990811   \n",
       "\n",
       "   injury_deaths  infant_mortality  result_2016   fips   mean  \n",
       "0           71.1             6.800            1  05085  0.952  \n",
       "1          112.9             8.820            1  05095  0.746  \n",
       "2           82.0             8.820            1  05043  0.803  \n",
       "3           96.8             8.820            1  05087  0.973  \n",
       "4           71.6             9.172            1  13159  0.916  \n",
       "\n",
       "[5 rows x 47 columns]"
      ]
     },
     "execution_count": 44,
     "metadata": {},
     "output_type": "execute_result"
    }
   ],
   "source": [
    "df.head()"
   ]
  },
  {
   "cell_type": "code",
   "execution_count": 45,
   "metadata": {},
   "outputs": [],
   "source": [
    "fips = df['fips'].tolist()\n",
    "values=df['mean'].tolist()\n",
    "colorscale = [\"#CB4335\",\"#E74C3C\",\"#EC7063\",\"#F1948A\",\"#F5B7B1\",\"#FADBD8\",\"#FDEDEC\",\n",
    "              \"#EBF5FB\",\"#D6EAF8\",\"#AED6F1\",\"#85C1E9\",\"#5DADE2\",\"#3498DB\",\"#2E86C1\"]\n",
    "endpts = list(np.linspace(0, 1, len(colorscale) - 1))"
   ]
  },
  {
   "cell_type": "code",
   "execution_count": 46,
   "metadata": {
    "scrolled": false
   },
   "outputs": [
    {
     "name": "stdout",
     "output_type": "stream",
     "text": [
      "The draw time for this plot will be slow for clients without much RAM.\n"
     ]
    },
    {
     "name": "stderr",
     "output_type": "stream",
     "text": [
      "/anaconda3/lib/python3.6/site-packages/plotly/api/v1/clientresp.py:40: UserWarning:\n",
      "\n",
      "Estimated Draw Time Slow\n",
      "\n"
     ]
    },
    {
     "data": {
      "text/html": [
       "<iframe id=\"igraph\" scrolling=\"no\" style=\"border:none;\" seamless=\"seamless\" src=\"https://plot.ly/~mizhao2018/14.embed\" height=\"450px\" width=\"900px\"></iframe>"
      ],
      "text/plain": [
       "<plotly.tools.PlotlyDisplay object>"
      ]
     },
     "execution_count": 46,
     "metadata": {},
     "output_type": "execute_result"
    }
   ],
   "source": [
    "fig = ff.create_choropleth(\n",
    "    fips=fips, values=values,\n",
    "    binning_endpoints=endpts,\n",
    "    show_state_data=False,\n",
    "    show_hover=True, centroid_marker={'opacity': 0},\n",
    "    colorscale = colorscale,\n",
    "    asp=2.9, title='Vote by Party - Monte Carlo Simulation',\n",
    "    legend_title='Likelihood to vote for Democrat'\n",
    ")\n",
    "py.iplot(fig, filename='vote_by_party_likelihood_simulation')"
   ]
  }
 ],
 "metadata": {
  "kernelspec": {
   "display_name": "Python 3",
   "language": "python",
   "name": "python3"
  },
  "language_info": {
   "codemirror_mode": {
    "name": "ipython",
    "version": 3
   },
   "file_extension": ".py",
   "mimetype": "text/x-python",
   "name": "python",
   "nbconvert_exporter": "python",
   "pygments_lexer": "ipython3",
   "version": "3.6.4"
  }
 },
 "nbformat": 4,
 "nbformat_minor": 2
}

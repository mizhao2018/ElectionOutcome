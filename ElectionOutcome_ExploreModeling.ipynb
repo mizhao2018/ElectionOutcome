{
 "cells": [
  {
   "cell_type": "code",
   "execution_count": 1,
   "metadata": {},
   "outputs": [],
   "source": [
    "import pandas as pd\n",
    "import numpy as np\n",
    "\n",
    "from sklearn.model_selection import train_test_split, cross_val_score, GridSearchCV\n",
    "from sklearn.preprocessing import StandardScaler\n",
    "from sklearn.neighbors import KNeighborsClassifier\n",
    "from sklearn.linear_model import LogisticRegression\n",
    "from sklearn import metrics\n",
    "from sklearn.metrics import precision_score, recall_score, fbeta_score, make_scorer, roc_auc_score, roc_curve, classification_report\n",
    "from sklearn.svm import LinearSVC\n",
    "from sklearn.tree import DecisionTreeClassifier\n",
    "from sklearn.ensemble import RandomForestClassifier, BaggingClassifier\n",
    "from sklearn import naive_bayes\n",
    "from sklearn.linear_model import SGDClassifier\n",
    "from sklearn.svm import SVC\n",
    "\n",
    "import matplotlib.pyplot as plt\n",
    "import seaborn as sns\n",
    "plt.style.use('seaborn')\n",
    "\n",
    "import pickle"
   ]
  },
  {
   "cell_type": "code",
   "execution_count": 2,
   "metadata": {},
   "outputs": [],
   "source": [
    "pd.options.display.max_columns=160\n",
    "pd.options.display.max_rows = 160"
   ]
  },
  {
   "cell_type": "code",
   "execution_count": 3,
   "metadata": {},
   "outputs": [],
   "source": [
    "df = pd.read_pickle('table_from_aws.pkl')"
   ]
  },
  {
   "cell_type": "code",
   "execution_count": 4,
   "metadata": {},
   "outputs": [
    {
     "data": {
      "text/html": [
       "<div>\n",
       "<style scoped>\n",
       "    .dataframe tbody tr th:only-of-type {\n",
       "        vertical-align: middle;\n",
       "    }\n",
       "\n",
       "    .dataframe tbody tr th {\n",
       "        vertical-align: top;\n",
       "    }\n",
       "\n",
       "    .dataframe thead th {\n",
       "        text-align: right;\n",
       "    }\n",
       "</style>\n",
       "<table border=\"1\" class=\"dataframe\">\n",
       "  <thead>\n",
       "    <tr style=\"text-align: right;\">\n",
       "      <th></th>\n",
       "      <th>county</th>\n",
       "      <th>less_than_high_school_diploma</th>\n",
       "      <th>at_least_high_school_diploma</th>\n",
       "      <th>at_least_bachelorss_degree</th>\n",
       "      <th>graduate_degree</th>\n",
       "      <th>school_enrollment</th>\n",
       "      <th>median_earnings_2010</th>\n",
       "      <th>white_not_latino_population</th>\n",
       "      <th>african_american_population</th>\n",
       "      <th>native_american_population</th>\n",
       "      <th>asian_american_population</th>\n",
       "      <th>other_race_or_races</th>\n",
       "      <th>latino_population</th>\n",
       "      <th>children_under_6_living_in_poverty</th>\n",
       "      <th>adults_65_and_older_living_in_poverty</th>\n",
       "      <th>total_population</th>\n",
       "      <th>preschool_enrollment_ratio_enrolled_ages_3_and_4</th>\n",
       "      <th>poverty_rate_below_federal_poverty_threshold</th>\n",
       "      <th>gini_coefficient</th>\n",
       "      <th>child_poverty_living_in_families_below_the_poverty_line</th>\n",
       "      <th>management_professional_and_related_occupations</th>\n",
       "      <th>service_occupations</th>\n",
       "      <th>sales_and_office_occupations</th>\n",
       "      <th>farming_fishing_and_forestry_occupations</th>\n",
       "      <th>construction_extraction_maintenance_and_repair_occupations</th>\n",
       "      <th>production_transportation_and_material_moving_occupations</th>\n",
       "      <th>sire_homogeneity</th>\n",
       "      <th>median_age</th>\n",
       "      <th>poor_physical_health_days</th>\n",
       "      <th>poor_mental_health_days</th>\n",
       "      <th>low_birthweight</th>\n",
       "      <th>teen_births</th>\n",
       "      <th>children_in_single_parent_households</th>\n",
       "      <th>adult_smoking</th>\n",
       "      <th>adult_obesity</th>\n",
       "      <th>diabetes</th>\n",
       "      <th>sexually_transmitted_infections</th>\n",
       "      <th>hiv_prevalence_rate</th>\n",
       "      <th>uninsured</th>\n",
       "      <th>unemployment</th>\n",
       "      <th>violent_crime</th>\n",
       "      <th>homicide_rate</th>\n",
       "      <th>injury_deaths</th>\n",
       "      <th>infant_mortality</th>\n",
       "      <th>result_2016</th>\n",
       "      <th>fips</th>\n",
       "    </tr>\n",
       "  </thead>\n",
       "  <tbody>\n",
       "    <tr>\n",
       "      <th>0</th>\n",
       "      <td>Lonoke County, Arkansas</td>\n",
       "      <td>14.2</td>\n",
       "      <td>85.8</td>\n",
       "      <td>16.6</td>\n",
       "      <td>4.9</td>\n",
       "      <td>75.45</td>\n",
       "      <td>28134.093970</td>\n",
       "      <td>88.0</td>\n",
       "      <td>6.35</td>\n",
       "      <td>0.50</td>\n",
       "      <td>0.75</td>\n",
       "      <td>1.45</td>\n",
       "      <td>3.00</td>\n",
       "      <td>23.65</td>\n",
       "      <td>12.95</td>\n",
       "      <td>65890</td>\n",
       "      <td>45.8</td>\n",
       "      <td>12.45</td>\n",
       "      <td>0.391</td>\n",
       "      <td>16.80</td>\n",
       "      <td>29.90</td>\n",
       "      <td>14.15</td>\n",
       "      <td>28.05</td>\n",
       "      <td>1.30</td>\n",
       "      <td>12.20</td>\n",
       "      <td>14.35</td>\n",
       "      <td>0.779624</td>\n",
       "      <td>35.3</td>\n",
       "      <td>3.3</td>\n",
       "      <td>3.900000</td>\n",
       "      <td>0.08</td>\n",
       "      <td>47.1</td>\n",
       "      <td>0.271</td>\n",
       "      <td>0.206</td>\n",
       "      <td>0.312</td>\n",
       "      <td>0.108</td>\n",
       "      <td>317.3</td>\n",
       "      <td>57.3</td>\n",
       "      <td>0.165</td>\n",
       "      <td>0.061</td>\n",
       "      <td>390.71</td>\n",
       "      <td>4.240000</td>\n",
       "      <td>71.1</td>\n",
       "      <td>6.800</td>\n",
       "      <td>1</td>\n",
       "      <td>05085</td>\n",
       "    </tr>\n",
       "    <tr>\n",
       "      <th>1</th>\n",
       "      <td>Monroe County, Arkansas</td>\n",
       "      <td>31.4</td>\n",
       "      <td>68.6</td>\n",
       "      <td>12.3</td>\n",
       "      <td>3.7</td>\n",
       "      <td>80.25</td>\n",
       "      <td>20974.931745</td>\n",
       "      <td>56.8</td>\n",
       "      <td>39.90</td>\n",
       "      <td>0.50</td>\n",
       "      <td>0.95</td>\n",
       "      <td>0.55</td>\n",
       "      <td>1.30</td>\n",
       "      <td>44.00</td>\n",
       "      <td>23.55</td>\n",
       "      <td>8377</td>\n",
       "      <td>52.0</td>\n",
       "      <td>22.65</td>\n",
       "      <td>0.470</td>\n",
       "      <td>28.80</td>\n",
       "      <td>24.20</td>\n",
       "      <td>18.15</td>\n",
       "      <td>23.00</td>\n",
       "      <td>5.75</td>\n",
       "      <td>6.85</td>\n",
       "      <td>22.15</td>\n",
       "      <td>0.482139</td>\n",
       "      <td>43.2</td>\n",
       "      <td>5.3</td>\n",
       "      <td>4.281429</td>\n",
       "      <td>0.12</td>\n",
       "      <td>70.7</td>\n",
       "      <td>0.530</td>\n",
       "      <td>0.368</td>\n",
       "      <td>0.351</td>\n",
       "      <td>0.141</td>\n",
       "      <td>1572.8</td>\n",
       "      <td>345.1</td>\n",
       "      <td>0.200</td>\n",
       "      <td>0.084</td>\n",
       "      <td>202.77</td>\n",
       "      <td>9.861842</td>\n",
       "      <td>112.9</td>\n",
       "      <td>8.820</td>\n",
       "      <td>1</td>\n",
       "      <td>05095</td>\n",
       "    </tr>\n",
       "    <tr>\n",
       "      <th>2</th>\n",
       "      <td>Drew County, Arkansas</td>\n",
       "      <td>19.4</td>\n",
       "      <td>80.6</td>\n",
       "      <td>19.4</td>\n",
       "      <td>5.7</td>\n",
       "      <td>78.50</td>\n",
       "      <td>21988.947300</td>\n",
       "      <td>67.9</td>\n",
       "      <td>27.95</td>\n",
       "      <td>0.15</td>\n",
       "      <td>0.55</td>\n",
       "      <td>0.85</td>\n",
       "      <td>2.65</td>\n",
       "      <td>34.15</td>\n",
       "      <td>14.40</td>\n",
       "      <td>18604</td>\n",
       "      <td>73.5</td>\n",
       "      <td>23.45</td>\n",
       "      <td>0.469</td>\n",
       "      <td>36.95</td>\n",
       "      <td>28.35</td>\n",
       "      <td>18.25</td>\n",
       "      <td>20.15</td>\n",
       "      <td>3.60</td>\n",
       "      <td>9.40</td>\n",
       "      <td>20.20</td>\n",
       "      <td>0.539968</td>\n",
       "      <td>36.8</td>\n",
       "      <td>4.5</td>\n",
       "      <td>4.700000</td>\n",
       "      <td>0.10</td>\n",
       "      <td>47.7</td>\n",
       "      <td>0.429</td>\n",
       "      <td>0.181</td>\n",
       "      <td>0.323</td>\n",
       "      <td>0.126</td>\n",
       "      <td>747.3</td>\n",
       "      <td>79.9</td>\n",
       "      <td>0.197</td>\n",
       "      <td>0.108</td>\n",
       "      <td>449.02</td>\n",
       "      <td>9.861842</td>\n",
       "      <td>82.0</td>\n",
       "      <td>8.820</td>\n",
       "      <td>1</td>\n",
       "      <td>05043</td>\n",
       "    </tr>\n",
       "    <tr>\n",
       "      <th>3</th>\n",
       "      <td>Madison County, Arkansas</td>\n",
       "      <td>24.2</td>\n",
       "      <td>75.8</td>\n",
       "      <td>13.4</td>\n",
       "      <td>4.1</td>\n",
       "      <td>76.40</td>\n",
       "      <td>23365.948890</td>\n",
       "      <td>92.0</td>\n",
       "      <td>0.25</td>\n",
       "      <td>1.25</td>\n",
       "      <td>0.30</td>\n",
       "      <td>1.50</td>\n",
       "      <td>4.70</td>\n",
       "      <td>26.20</td>\n",
       "      <td>18.45</td>\n",
       "      <td>15597</td>\n",
       "      <td>43.8</td>\n",
       "      <td>18.20</td>\n",
       "      <td>0.446</td>\n",
       "      <td>25.15</td>\n",
       "      <td>25.15</td>\n",
       "      <td>16.85</td>\n",
       "      <td>19.55</td>\n",
       "      <td>2.90</td>\n",
       "      <td>16.20</td>\n",
       "      <td>19.40</td>\n",
       "      <td>0.849005</td>\n",
       "      <td>38.5</td>\n",
       "      <td>4.9</td>\n",
       "      <td>2.100000</td>\n",
       "      <td>0.07</td>\n",
       "      <td>49.0</td>\n",
       "      <td>0.179</td>\n",
       "      <td>0.304</td>\n",
       "      <td>0.328</td>\n",
       "      <td>0.135</td>\n",
       "      <td>247.2</td>\n",
       "      <td>131.3</td>\n",
       "      <td>0.239</td>\n",
       "      <td>0.053</td>\n",
       "      <td>245.83</td>\n",
       "      <td>9.861842</td>\n",
       "      <td>96.8</td>\n",
       "      <td>8.820</td>\n",
       "      <td>1</td>\n",
       "      <td>05087</td>\n",
       "    </tr>\n",
       "    <tr>\n",
       "      <th>4</th>\n",
       "      <td>Jasper County, Georgia</td>\n",
       "      <td>21.7</td>\n",
       "      <td>78.3</td>\n",
       "      <td>13.3</td>\n",
       "      <td>5.6</td>\n",
       "      <td>70.20</td>\n",
       "      <td>25363.060950</td>\n",
       "      <td>72.7</td>\n",
       "      <td>22.20</td>\n",
       "      <td>0.40</td>\n",
       "      <td>0.10</td>\n",
       "      <td>1.05</td>\n",
       "      <td>3.55</td>\n",
       "      <td>17.60</td>\n",
       "      <td>17.95</td>\n",
       "      <td>13744</td>\n",
       "      <td>36.5</td>\n",
       "      <td>18.05</td>\n",
       "      <td>0.451</td>\n",
       "      <td>27.60</td>\n",
       "      <td>21.60</td>\n",
       "      <td>17.15</td>\n",
       "      <td>22.60</td>\n",
       "      <td>4.35</td>\n",
       "      <td>15.10</td>\n",
       "      <td>19.25</td>\n",
       "      <td>0.579201</td>\n",
       "      <td>38.1</td>\n",
       "      <td>4.3</td>\n",
       "      <td>3.700000</td>\n",
       "      <td>0.09</td>\n",
       "      <td>54.1</td>\n",
       "      <td>0.381</td>\n",
       "      <td>0.210</td>\n",
       "      <td>0.298</td>\n",
       "      <td>0.118</td>\n",
       "      <td>324.1</td>\n",
       "      <td>402.4</td>\n",
       "      <td>0.239</td>\n",
       "      <td>0.096</td>\n",
       "      <td>205.60</td>\n",
       "      <td>6.990811</td>\n",
       "      <td>71.6</td>\n",
       "      <td>9.172</td>\n",
       "      <td>1</td>\n",
       "      <td>13159</td>\n",
       "    </tr>\n",
       "  </tbody>\n",
       "</table>\n",
       "</div>"
      ],
      "text/plain": [
       "                     county  less_than_high_school_diploma  \\\n",
       "0   Lonoke County, Arkansas                           14.2   \n",
       "1   Monroe County, Arkansas                           31.4   \n",
       "2     Drew County, Arkansas                           19.4   \n",
       "3  Madison County, Arkansas                           24.2   \n",
       "4    Jasper County, Georgia                           21.7   \n",
       "\n",
       "   at_least_high_school_diploma  at_least_bachelorss_degree  graduate_degree  \\\n",
       "0                          85.8                        16.6              4.9   \n",
       "1                          68.6                        12.3              3.7   \n",
       "2                          80.6                        19.4              5.7   \n",
       "3                          75.8                        13.4              4.1   \n",
       "4                          78.3                        13.3              5.6   \n",
       "\n",
       "   school_enrollment  median_earnings_2010  white_not_latino_population  \\\n",
       "0              75.45          28134.093970                         88.0   \n",
       "1              80.25          20974.931745                         56.8   \n",
       "2              78.50          21988.947300                         67.9   \n",
       "3              76.40          23365.948890                         92.0   \n",
       "4              70.20          25363.060950                         72.7   \n",
       "\n",
       "   african_american_population  native_american_population  \\\n",
       "0                         6.35                        0.50   \n",
       "1                        39.90                        0.50   \n",
       "2                        27.95                        0.15   \n",
       "3                         0.25                        1.25   \n",
       "4                        22.20                        0.40   \n",
       "\n",
       "   asian_american_population  other_race_or_races  latino_population  \\\n",
       "0                       0.75                 1.45               3.00   \n",
       "1                       0.95                 0.55               1.30   \n",
       "2                       0.55                 0.85               2.65   \n",
       "3                       0.30                 1.50               4.70   \n",
       "4                       0.10                 1.05               3.55   \n",
       "\n",
       "   children_under_6_living_in_poverty  adults_65_and_older_living_in_poverty  \\\n",
       "0                               23.65                                  12.95   \n",
       "1                               44.00                                  23.55   \n",
       "2                               34.15                                  14.40   \n",
       "3                               26.20                                  18.45   \n",
       "4                               17.60                                  17.95   \n",
       "\n",
       "   total_population  preschool_enrollment_ratio_enrolled_ages_3_and_4  \\\n",
       "0             65890                                              45.8   \n",
       "1              8377                                              52.0   \n",
       "2             18604                                              73.5   \n",
       "3             15597                                              43.8   \n",
       "4             13744                                              36.5   \n",
       "\n",
       "   poverty_rate_below_federal_poverty_threshold  gini_coefficient  \\\n",
       "0                                         12.45             0.391   \n",
       "1                                         22.65             0.470   \n",
       "2                                         23.45             0.469   \n",
       "3                                         18.20             0.446   \n",
       "4                                         18.05             0.451   \n",
       "\n",
       "   child_poverty_living_in_families_below_the_poverty_line  \\\n",
       "0                                              16.80         \n",
       "1                                              28.80         \n",
       "2                                              36.95         \n",
       "3                                              25.15         \n",
       "4                                              27.60         \n",
       "\n",
       "   management_professional_and_related_occupations  service_occupations  \\\n",
       "0                                            29.90                14.15   \n",
       "1                                            24.20                18.15   \n",
       "2                                            28.35                18.25   \n",
       "3                                            25.15                16.85   \n",
       "4                                            21.60                17.15   \n",
       "\n",
       "   sales_and_office_occupations  farming_fishing_and_forestry_occupations  \\\n",
       "0                         28.05                                      1.30   \n",
       "1                         23.00                                      5.75   \n",
       "2                         20.15                                      3.60   \n",
       "3                         19.55                                      2.90   \n",
       "4                         22.60                                      4.35   \n",
       "\n",
       "   construction_extraction_maintenance_and_repair_occupations  \\\n",
       "0                                              12.20            \n",
       "1                                               6.85            \n",
       "2                                               9.40            \n",
       "3                                              16.20            \n",
       "4                                              15.10            \n",
       "\n",
       "   production_transportation_and_material_moving_occupations  \\\n",
       "0                                              14.35           \n",
       "1                                              22.15           \n",
       "2                                              20.20           \n",
       "3                                              19.40           \n",
       "4                                              19.25           \n",
       "\n",
       "   sire_homogeneity  median_age  poor_physical_health_days  \\\n",
       "0          0.779624        35.3                        3.3   \n",
       "1          0.482139        43.2                        5.3   \n",
       "2          0.539968        36.8                        4.5   \n",
       "3          0.849005        38.5                        4.9   \n",
       "4          0.579201        38.1                        4.3   \n",
       "\n",
       "   poor_mental_health_days  low_birthweight  teen_births  \\\n",
       "0                 3.900000             0.08         47.1   \n",
       "1                 4.281429             0.12         70.7   \n",
       "2                 4.700000             0.10         47.7   \n",
       "3                 2.100000             0.07         49.0   \n",
       "4                 3.700000             0.09         54.1   \n",
       "\n",
       "   children_in_single_parent_households  adult_smoking  adult_obesity  \\\n",
       "0                                 0.271          0.206          0.312   \n",
       "1                                 0.530          0.368          0.351   \n",
       "2                                 0.429          0.181          0.323   \n",
       "3                                 0.179          0.304          0.328   \n",
       "4                                 0.381          0.210          0.298   \n",
       "\n",
       "   diabetes  sexually_transmitted_infections  hiv_prevalence_rate  uninsured  \\\n",
       "0     0.108                            317.3                 57.3      0.165   \n",
       "1     0.141                           1572.8                345.1      0.200   \n",
       "2     0.126                            747.3                 79.9      0.197   \n",
       "3     0.135                            247.2                131.3      0.239   \n",
       "4     0.118                            324.1                402.4      0.239   \n",
       "\n",
       "   unemployment  violent_crime  homicide_rate  injury_deaths  \\\n",
       "0         0.061         390.71       4.240000           71.1   \n",
       "1         0.084         202.77       9.861842          112.9   \n",
       "2         0.108         449.02       9.861842           82.0   \n",
       "3         0.053         245.83       9.861842           96.8   \n",
       "4         0.096         205.60       6.990811           71.6   \n",
       "\n",
       "   infant_mortality  result_2016   fips  \n",
       "0             6.800            1  05085  \n",
       "1             8.820            1  05095  \n",
       "2             8.820            1  05043  \n",
       "3             8.820            1  05087  \n",
       "4             9.172            1  13159  "
      ]
     },
     "execution_count": 4,
     "metadata": {},
     "output_type": "execute_result"
    }
   ],
   "source": [
    "df.head(5)"
   ]
  },
  {
   "cell_type": "code",
   "execution_count": 5,
   "metadata": {},
   "outputs": [],
   "source": [
    "# Set up test / train split, stratitify y\n",
    "y = df[\"result_2016\"]\n",
    "X = df.iloc[:,1:44]\n",
    "X_train, X_test, y_train, y_test = train_test_split(X, y, test_size=0.3,random_state=42, stratify = y)\n",
    "ssX = StandardScaler()\n",
    "X_train_scaled = ssX.fit_transform(X_train)\n",
    "X_test_scaled = ssX.transform(X_test)"
   ]
  },
  {
   "cell_type": "markdown",
   "metadata": {},
   "source": [
    "## Model 1 - KNN"
   ]
  },
  {
   "cell_type": "code",
   "execution_count": 6,
   "metadata": {},
   "outputs": [
    {
     "name": "stdout",
     "output_type": "stream",
     "text": [
      "The accuracy for the training set is:  0.9545245751033532\n",
      "The accuracy for the test set is:  0.9218415417558886\n"
     ]
    }
   ],
   "source": [
    "# Model #1 -  let's start with KNN where n = 5\n",
    "knn = KNeighborsClassifier(n_neighbors = 5)\n",
    "knn.fit(X_train_scaled, y_train)\n",
    "y_pred = knn.predict(X_train_scaled)\n",
    "print(\"The accuracy for the training set is: \", str(knn.score(X_train_scaled, y_train)))\n",
    "print(\"The accuracy for the test set is: \", str(knn.score(X_test_scaled, y_test)))"
   ]
  },
  {
   "cell_type": "code",
   "execution_count": 7,
   "metadata": {},
   "outputs": [
    {
     "data": {
      "text/plain": [
       "GridSearchCV(cv=10, error_score='raise',\n",
       "       estimator=KNeighborsClassifier(algorithm='auto', leaf_size=30, metric='minkowski',\n",
       "           metric_params=None, n_jobs=1, n_neighbors=5, p=2,\n",
       "           weights='uniform'),\n",
       "       fit_params=None, iid=True, n_jobs=1,\n",
       "       param_grid={'n_neighbors': [1, 2, 3, 4, 5, 6, 7, 8, 9, 10, 11, 12, 13, 14, 15, 16, 17, 18, 19, 20, 21, 22, 23, 24, 25, 26, 27, 28, 29, 30, 31, 32, 33, 34, 35, 36, 37, 38, 39, 40, 41, 42, 43, 44, 45, 46, 47, 48, 49, 50, 51, 52, 53, 54, 55, 56, 57, 58, 59, 60, 61, 62, 63, 64, 65, 66, 67, 68, 69, 70, 71, 72, 73, 74, 75, 76, 77, 78, 79, 80, 81, 82, 83, 84, 85, 86, 87, 88, 89, 90, 91, 92, 93, 94, 95, 96, 97, 98, 99]},\n",
       "       pre_dispatch='2*n_jobs', refit=True, return_train_score='warn',\n",
       "       scoring='accuracy', verbose=0)"
      ]
     },
     "execution_count": 7,
     "metadata": {},
     "output_type": "execute_result"
    }
   ],
   "source": [
    "# Model #1 tuning - try with cross-validation grid-search\n",
    "\n",
    "k_range=list(range(1,100))\n",
    "param_grid = dict(n_neighbors = k_range)\n",
    "knn2 = GridSearchCV(knn, param_grid, cv=10, scoring='accuracy')\n",
    "knn2.fit(X_train_scaled, y_train)"
   ]
  },
  {
   "cell_type": "code",
   "execution_count": 8,
   "metadata": {},
   "outputs": [
    {
     "data": {
      "text/plain": [
       "KNeighborsClassifier(algorithm='auto', leaf_size=30, metric='minkowski',\n",
       "           metric_params=None, n_jobs=1, n_neighbors=6, p=2,\n",
       "           weights='uniform')"
      ]
     },
     "execution_count": 8,
     "metadata": {},
     "output_type": "execute_result"
    }
   ],
   "source": [
    "knn2.best_estimator_"
   ]
  },
  {
   "cell_type": "markdown",
   "metadata": {},
   "source": [
    "## KNN to maximize precision "
   ]
  },
  {
   "cell_type": "code",
   "execution_count": 9,
   "metadata": {},
   "outputs": [
    {
     "name": "stderr",
     "output_type": "stream",
     "text": [
      "/anaconda3/lib/python3.6/site-packages/sklearn/model_selection/_search.py:761: DeprecationWarning: The grid_scores_ attribute was deprecated in version 0.18 in favor of the more elaborate cv_results_ attribute. The grid_scores_ attribute will not be available from 0.20\n",
      "  DeprecationWarning)\n"
     ]
    },
    {
     "data": {
      "text/plain": [
       "[mean: 0.93990, std: 0.01190, params: {'n_neighbors': 1},\n",
       " mean: 0.96346, std: 0.01431, params: {'n_neighbors': 2},\n",
       " mean: 0.93828, std: 0.01282, params: {'n_neighbors': 3},\n",
       " mean: 0.96037, std: 0.01237, params: {'n_neighbors': 4},\n",
       " mean: 0.94341, std: 0.01102, params: {'n_neighbors': 5},\n",
       " mean: 0.95557, std: 0.01139, params: {'n_neighbors': 6},\n",
       " mean: 0.94048, std: 0.01204, params: {'n_neighbors': 7},\n",
       " mean: 0.94972, std: 0.01163, params: {'n_neighbors': 8},\n",
       " mean: 0.93627, std: 0.01201, params: {'n_neighbors': 9},\n",
       " mean: 0.94336, std: 0.01511, params: {'n_neighbors': 10},\n",
       " mean: 0.93455, std: 0.01120, params: {'n_neighbors': 11},\n",
       " mean: 0.94071, std: 0.01130, params: {'n_neighbors': 12},\n",
       " mean: 0.93165, std: 0.01169, params: {'n_neighbors': 13},\n",
       " mean: 0.93835, std: 0.01327, params: {'n_neighbors': 14},\n",
       " mean: 0.93173, std: 0.01132, params: {'n_neighbors': 15},\n",
       " mean: 0.93485, std: 0.01183, params: {'n_neighbors': 16},\n",
       " mean: 0.93021, std: 0.01333, params: {'n_neighbors': 17},\n",
       " mean: 0.93397, std: 0.01279, params: {'n_neighbors': 18},\n",
       " mean: 0.92841, std: 0.01104, params: {'n_neighbors': 19},\n",
       " mean: 0.93208, std: 0.01036, params: {'n_neighbors': 20},\n",
       " mean: 0.92805, std: 0.01002, params: {'n_neighbors': 21},\n",
       " mean: 0.93224, std: 0.00889, params: {'n_neighbors': 22},\n",
       " mean: 0.92560, std: 0.00819, params: {'n_neighbors': 23},\n",
       " mean: 0.92882, std: 0.00830, params: {'n_neighbors': 24},\n",
       " mean: 0.92350, std: 0.00944, params: {'n_neighbors': 25},\n",
       " mean: 0.92619, std: 0.01006, params: {'n_neighbors': 26},\n",
       " mean: 0.92343, std: 0.00858, params: {'n_neighbors': 27},\n",
       " mean: 0.92568, std: 0.00849, params: {'n_neighbors': 28},\n",
       " mean: 0.92165, std: 0.01041, params: {'n_neighbors': 29},\n",
       " mean: 0.92389, std: 0.01084, params: {'n_neighbors': 30},\n",
       " mean: 0.91881, std: 0.00941, params: {'n_neighbors': 31},\n",
       " mean: 0.92391, std: 0.01092, params: {'n_neighbors': 32},\n",
       " mean: 0.91881, std: 0.00941, params: {'n_neighbors': 33},\n",
       " mean: 0.92063, std: 0.00916, params: {'n_neighbors': 34},\n",
       " mean: 0.91563, std: 0.01029, params: {'n_neighbors': 35},\n",
       " mean: 0.91792, std: 0.00947, params: {'n_neighbors': 36},\n",
       " mean: 0.91241, std: 0.01072, params: {'n_neighbors': 37},\n",
       " mean: 0.91557, std: 0.01132, params: {'n_neighbors': 38},\n",
       " mean: 0.91070, std: 0.01017, params: {'n_neighbors': 39},\n",
       " mean: 0.91245, std: 0.01046, params: {'n_neighbors': 40},\n",
       " mean: 0.90893, std: 0.01008, params: {'n_neighbors': 41},\n",
       " mean: 0.91108, std: 0.01061, params: {'n_neighbors': 42},\n",
       " mean: 0.90834, std: 0.00982, params: {'n_neighbors': 43},\n",
       " mean: 0.91060, std: 0.00946, params: {'n_neighbors': 44},\n",
       " mean: 0.90888, std: 0.00983, params: {'n_neighbors': 45},\n",
       " mean: 0.90979, std: 0.00968, params: {'n_neighbors': 46},\n",
       " mean: 0.90575, std: 0.00913, params: {'n_neighbors': 47},\n",
       " mean: 0.90843, std: 0.00955, params: {'n_neighbors': 48},\n",
       " mean: 0.90492, std: 0.01037, params: {'n_neighbors': 49}]"
      ]
     },
     "execution_count": 9,
     "metadata": {},
     "output_type": "execute_result"
    }
   ],
   "source": [
    "# Model #1 Try with Precision Score to minimize Type I error so that we have less False Positive (Democrats)\n",
    "k_range=list(range(1, 50))\n",
    "param_grid = dict(n_neighbors = k_range)\n",
    "knn2 = GridSearchCV(knn, param_grid, cv=10, scoring='precision')\n",
    "knn2.fit(X_train_scaled, y_train)\n",
    "knn2.grid_scores_"
   ]
  },
  {
   "cell_type": "code",
   "execution_count": 10,
   "metadata": {},
   "outputs": [
    {
     "data": {
      "text/plain": [
       "KNeighborsClassifier(algorithm='auto', leaf_size=30, metric='minkowski',\n",
       "           metric_params=None, n_jobs=1, n_neighbors=2, p=2,\n",
       "           weights='uniform')"
      ]
     },
     "execution_count": 10,
     "metadata": {},
     "output_type": "execute_result"
    }
   ],
   "source": [
    "knn2.best_estimator_"
   ]
  },
  {
   "cell_type": "code",
   "execution_count": 11,
   "metadata": {},
   "outputs": [
    {
     "name": "stdout",
     "output_type": "stream",
     "text": [
      "The precision score for the train set is:  1.0\n",
      "The recall score for the train set is:  0.9515514425694066\n"
     ]
    }
   ],
   "source": [
    "# This is the precision score\n",
    "y_train_predict = knn2.best_estimator_.predict(X_train_scaled)\n",
    "print(\"The precision score for the train set is: \", str(precision_score(y_train, y_train_predict)))\n",
    "print(\"The recall score for the train set is: \",str(recall_score(y_train, y_train_predict)))"
   ]
  },
  {
   "cell_type": "code",
   "execution_count": 12,
   "metadata": {},
   "outputs": [
    {
     "name": "stdout",
     "output_type": "stream",
     "text": [
      "0.9637096774193549\n",
      "0.9098984771573604\n"
     ]
    }
   ],
   "source": [
    "# Precision score on the test set \n",
    "y_test_predict = knn2.best_estimator_.predict(X_test_scaled)\n",
    "print(precision_score(y_test, y_test_predict))\n",
    "\n",
    "# Recall score on the test set\n",
    "print(recall_score(y_test, y_test_predict))"
   ]
  },
  {
   "cell_type": "markdown",
   "metadata": {},
   "source": [
    "## KNN with f1 score"
   ]
  },
  {
   "cell_type": "code",
   "execution_count": 13,
   "metadata": {},
   "outputs": [
    {
     "data": {
      "text/plain": [
       "GridSearchCV(cv=10, error_score='raise',\n",
       "       estimator=KNeighborsClassifier(algorithm='auto', leaf_size=30, metric='minkowski',\n",
       "           metric_params=None, n_jobs=1, n_neighbors=5, p=2,\n",
       "           weights='uniform'),\n",
       "       fit_params=None, iid=True, n_jobs=1,\n",
       "       param_grid={'n_neighbors': [1, 2, 3, 4, 5, 6, 7, 8, 9, 10, 11, 12, 13, 14, 15, 16, 17, 18, 19, 20, 21, 22, 23, 24, 25, 26, 27, 28, 29, 30, 31, 32, 33, 34, 35, 36, 37, 38, 39, 40, 41, 42, 43, 44, 45, 46, 47, 48, 49, 50, 51, 52, 53, 54, 55, 56, 57, 58, 59, 60, 61, 62, 63, 64, 65, 66, 67, 68, 69, 70, 71, 72, 73, 74, 75, 76, 77, 78, 79, 80, 81, 82, 83, 84, 85, 86, 87, 88, 89, 90, 91, 92, 93, 94, 95, 96, 97, 98, 99]},\n",
       "       pre_dispatch='2*n_jobs', refit=True, return_train_score='warn',\n",
       "       scoring='f1', verbose=0)"
      ]
     },
     "execution_count": 13,
     "metadata": {},
     "output_type": "execute_result"
    }
   ],
   "source": [
    "# Model #1 Try scoring on f1 to balance\n",
    "k_range=list(range(1, 100))\n",
    "param_grid = dict(n_neighbors = k_range)\n",
    "knn3 = GridSearchCV(knn, param_grid, cv=10, scoring='f1')\n",
    "knn3.fit(X_train_scaled, y_train)"
   ]
  },
  {
   "cell_type": "code",
   "execution_count": 14,
   "metadata": {},
   "outputs": [
    {
     "data": {
      "text/plain": [
       "KNeighborsClassifier(algorithm='auto', leaf_size=30, metric='minkowski',\n",
       "           metric_params=None, n_jobs=1, n_neighbors=6, p=2,\n",
       "           weights='uniform')"
      ]
     },
     "execution_count": 14,
     "metadata": {},
     "output_type": "execute_result"
    }
   ],
   "source": [
    "knn3.best_estimator_"
   ]
  },
  {
   "cell_type": "code",
   "execution_count": 15,
   "metadata": {},
   "outputs": [
    {
     "name": "stdout",
     "output_type": "stream",
     "text": [
      "precision score for the tranining set is:  0.9671159029649595\n",
      "recall score for the training set is:  0.9765922700054437\n",
      "precision score for the test set is:  0.9463171036204744\n",
      "recall score for the test set is:  0.9619289340101523\n"
     ]
    }
   ],
   "source": [
    "#Checkout some metrics\n",
    "y_train_predict3 = knn3.best_estimator_.predict(X_train_scaled)\n",
    "y_test_predict3 = knn3.best_estimator_.predict(X_test_scaled)\n",
    "print(\"precision score for the tranining set is: \", str(precision_score(y_train, y_train_predict3)))\n",
    "print(\"recall score for the training set is: \", str(recall_score(y_train, y_train_predict3)))\n",
    "print(\"precision score for the test set is: \", str(precision_score(y_test, y_test_predict3)))\n",
    "print(\"recall score for the test set is: \", str(recall_score(y_test, y_test_predict3)))"
   ]
  },
  {
   "cell_type": "code",
   "execution_count": 16,
   "metadata": {},
   "outputs": [
    {
     "name": "stdout",
     "output_type": "stream",
     "text": [
      "             precision    recall  f1-score   support\n",
      "\n",
      "          0       0.77      0.71      0.74       146\n",
      "          1       0.95      0.96      0.95       788\n",
      "\n",
      "avg / total       0.92      0.92      0.92       934\n",
      "\n"
     ]
    }
   ],
   "source": [
    "print(classification_report(y_test, y_test_predict3))"
   ]
  },
  {
   "cell_type": "markdown",
   "metadata": {},
   "source": [
    "## Try Logistic Regression"
   ]
  },
  {
   "cell_type": "code",
   "execution_count": 17,
   "metadata": {},
   "outputs": [
    {
     "name": "stdout",
     "output_type": "stream",
     "text": [
      "-- Epoch 1\n",
      "Norm: 307.71, NNZs: 43, Bias: 208.368795, T: 2177, Avg. loss: 15.410943\n",
      "Total training time: 0.00 seconds.\n",
      "-- Epoch 2\n",
      "Norm: 303.66, NNZs: 43, Bias: 185.003944, T: 4354, Avg. loss: 7.210386\n",
      "Total training time: 0.00 seconds.\n",
      "-- Epoch 3\n",
      "Norm: 294.66, NNZs: 39, Bias: 168.264836, T: 6531, Avg. loss: 4.983225\n",
      "Total training time: 0.00 seconds.\n",
      "-- Epoch 4\n",
      "Norm: 289.68, NNZs: 41, Bias: 145.946696, T: 8708, Avg. loss: 4.184099\n",
      "Total training time: 0.00 seconds.\n",
      "-- Epoch 5\n",
      "Norm: 282.91, NNZs: 42, Bias: 136.626401, T: 10885, Avg. loss: 3.318025\n",
      "Total training time: 0.00 seconds.\n"
     ]
    },
    {
     "name": "stderr",
     "output_type": "stream",
     "text": [
      "/anaconda3/lib/python3.6/site-packages/sklearn/linear_model/stochastic_gradient.py:128: FutureWarning: max_iter and tol parameters have been added in <class 'sklearn.linear_model.stochastic_gradient.SGDClassifier'> in 0.19. If both are left unset, they default to max_iter=5 and tol=None. If tol is not None, max_iter defaults to max_iter=1000. From 0.21, default max_iter will be 1000, and default tol will be 1e-3.\n",
      "  \"and default tol will be 1e-3.\" % type(self), FutureWarning)\n"
     ]
    },
    {
     "data": {
      "text/plain": [
       "SGDClassifier(alpha=0.0001, average=False, class_weight=None, epsilon=0.1,\n",
       "       eta0=0.0, fit_intercept=True, l1_ratio=0.15,\n",
       "       learning_rate='optimal', loss='log', max_iter=None, n_iter=None,\n",
       "       n_jobs=1, penalty='l1', power_t=0.5, random_state=None,\n",
       "       shuffle=True, tol=None, verbose=1, warm_start=False)"
      ]
     },
     "execution_count": 17,
     "metadata": {},
     "output_type": "execute_result"
    }
   ],
   "source": [
    "lm0 = SGDClassifier(loss='log',penalty='l1',verbose=1)\n",
    "lm0.fit(X_train_scaled, y_train)"
   ]
  },
  {
   "cell_type": "code",
   "execution_count": 18,
   "metadata": {},
   "outputs": [
    {
     "data": {
      "text/plain": [
       "LogisticRegression(C=0.95, class_weight=None, dual=False, fit_intercept=True,\n",
       "          intercept_scaling=1, max_iter=100, multi_class='ovr', n_jobs=1,\n",
       "          penalty='l2', random_state=None, solver='liblinear', tol=0.0001,\n",
       "          verbose=0, warm_start=False)"
      ]
     },
     "execution_count": 18,
     "metadata": {},
     "output_type": "execute_result"
    }
   ],
   "source": [
    "#Model 2s Try scoring on roc_auc_score\n",
    "lm = LogisticRegression(C=0.95)\n",
    "lm.fit(X_train_scaled, y_train)"
   ]
  },
  {
   "cell_type": "code",
   "execution_count": 19,
   "metadata": {},
   "outputs": [
    {
     "data": {
      "text/plain": [
       "0.9435002296738632"
      ]
     },
     "execution_count": 19,
     "metadata": {},
     "output_type": "execute_result"
    }
   ],
   "source": [
    "lm.score(X_train_scaled, y_train)"
   ]
  },
  {
   "cell_type": "code",
   "execution_count": 20,
   "metadata": {},
   "outputs": [],
   "source": [
    "y_train_predict_logistic = lm.predict(X_train_scaled)\n",
    "y_test_predict_logistic = lm.predict(X_test_scaled)"
   ]
  },
  {
   "cell_type": "code",
   "execution_count": 21,
   "metadata": {},
   "outputs": [
    {
     "name": "stdout",
     "output_type": "stream",
     "text": [
      "precision score for the training set is:  0.9568230277185501\n",
      "recall score for the training set is:  0.9771366358192706\n",
      "precision score for the test set is  0.9555006180469716\n",
      "recall score for the test set is:  0.9809644670050761\n"
     ]
    }
   ],
   "source": [
    "print(\"precision score for the training set is: \", str(precision_score(y_train, y_train_predict_logistic)))\n",
    "print(\"recall score for the training set is: \", str(recall_score(y_train, y_train_predict_logistic)))\n",
    "print(\"precision score for the test set is \", str(precision_score(y_test, y_test_predict_logistic)))\n",
    "print(\"recall score for the test set is: \", str(recall_score(y_test, y_test_predict_logistic)))"
   ]
  },
  {
   "cell_type": "code",
   "execution_count": 22,
   "metadata": {},
   "outputs": [
    {
     "data": {
      "text/plain": [
       "LogisticRegression(C=0.8, class_weight=None, dual=False, fit_intercept=True,\n",
       "          intercept_scaling=1, max_iter=100, multi_class='ovr', n_jobs=1,\n",
       "          penalty='l2', random_state=None, solver='liblinear', tol=0.0001,\n",
       "          verbose=0, warm_start=False)"
      ]
     },
     "execution_count": 22,
     "metadata": {},
     "output_type": "execute_result"
    }
   ],
   "source": [
    "lm2 = LogisticRegression(C=0.8)\n",
    "lm2.fit(X_train_scaled, y_train)"
   ]
  },
  {
   "cell_type": "code",
   "execution_count": 23,
   "metadata": {},
   "outputs": [],
   "source": [
    "y_train_predict_logistic2 = lm2.predict(X_train_scaled)\n",
    "y_test_predict_logistic2 = lm2.predict(X_test_scaled)"
   ]
  },
  {
   "cell_type": "code",
   "execution_count": 24,
   "metadata": {},
   "outputs": [
    {
     "name": "stdout",
     "output_type": "stream",
     "text": [
      "precision score for the training set is:  0.9568230277185501\n",
      "recall score for the training set is:  0.9771366358192706\n",
      "precision score for the test set is  0.9555006180469716\n",
      "recall score for the test set is:  0.9809644670050761\n"
     ]
    }
   ],
   "source": [
    "print(\"precision score for the training set is: \", str(precision_score(y_train, y_train_predict_logistic2)))\n",
    "print(\"recall score for the training set is: \", str(recall_score(y_train, y_train_predict_logistic2)))\n",
    "print(\"precision score for the test set is \", str(precision_score(y_test, y_test_predict_logistic2)))\n",
    "print(\"recall score for the test set is: \", str(recall_score(y_test, y_test_predict_logistic2)))"
   ]
  },
  {
   "cell_type": "code",
   "execution_count": 25,
   "metadata": {},
   "outputs": [
    {
     "data": {
      "text/plain": [
       "array([ 3,  2,  7, 25,  6])"
      ]
     },
     "execution_count": 25,
     "metadata": {},
     "output_type": "execute_result"
    }
   ],
   "source": [
    "sorted_importance_indicies = np.argsort(abs(lm.coef_))\n",
    "lm.coef_.reshape(-1)[sorted_importance_indicies.reshape(-1)]\n",
    "sorted_importance_indicies.reshape(-1)[-5:]"
   ]
  },
  {
   "cell_type": "code",
   "execution_count": 26,
   "metadata": {},
   "outputs": [
    {
     "data": {
      "image/png": "[encoded data removed]",
      "text/plain": [
       "<matplotlib.figure.Figure at 0x107579668>"
      ]
     },
     "metadata": {},
     "output_type": "display_data"
    }
   ],
   "source": [
    "coefs_size = abs(lm.coef_.reshape(-1))\n",
    "labels = X_train.columns[sorted_importance_indicies.reshape(-1)[-5:]]\n",
    "plt.bar(labels, coefs_size[sorted_importance_indicies.reshape(-1)[-5:]])\n",
    "plt.xticks(rotation=40);"
   ]
  },
  {
   "cell_type": "markdown",
   "metadata": {},
   "source": [
    "## Random Forest"
   ]
  },
  {
   "cell_type": "code",
   "execution_count": 27,
   "metadata": {},
   "outputs": [
    {
     "data": {
      "image/png": "[encoded data removed]",
      "text/plain": [
       "<matplotlib.figure.Figure at 0x1078f2160>"
      ]
     },
     "metadata": {},
     "output_type": "display_data"
    }
   ],
   "source": [
    "train_score = []\n",
    "test_score = []\n",
    "\n",
    "for depth in range(1,200):\n",
    "    dt = RandomForestClassifier(n_estimators=50, max_depth=depth, n_jobs=-1)\n",
    "    dt.fit(X_train_scaled, y_train)\n",
    "    train_score.append(dt.score(X_train_scaled, y_train))\n",
    "    test_score.append(dt.score(X_test_scaled, y_test))\n",
    "    \n",
    "plt.figure(dpi=150)\n",
    "plt.plot(range(1,200), train_score, 'g', label=\"Train\")\n",
    "plt.plot(range(1,200), test_score, 'b', label=\"Test\")\n",
    "plt.legend(loc='upper right')\n",
    "plt.xlabel(\"Max Depth in Tree\")\n",
    "plt.ylabel(\"Accuracy\");"
   ]
  },
  {
   "cell_type": "code",
   "execution_count": 28,
   "metadata": {},
   "outputs": [
    {
     "data": {
      "text/plain": [
       "0.9379014989293362"
      ]
     },
     "execution_count": 28,
     "metadata": {},
     "output_type": "execute_result"
    }
   ],
   "source": [
    "rf2= RandomForestClassifier(n_estimators=50, max_depth=15)\n",
    "rf2.fit(X_train_scaled, y_train)\n",
    "rf2.score(X_test_scaled, y_test)"
   ]
  },
  {
   "cell_type": "code",
   "execution_count": 29,
   "metadata": {},
   "outputs": [],
   "source": [
    "y_train_predict_rf2 = rf2.predict(X_train_scaled)\n",
    "y_test_predict_rf2 = rf2.predict(X_test_scaled)"
   ]
  },
  {
   "cell_type": "code",
   "execution_count": 30,
   "metadata": {},
   "outputs": [
    {
     "name": "stdout",
     "output_type": "stream",
     "text": [
      "             precision    recall  f1-score   support\n",
      "\n",
      "          0       0.84      0.75      0.79       146\n",
      "          1       0.95      0.97      0.96       788\n",
      "\n",
      "avg / total       0.94      0.94      0.94       934\n",
      "\n"
     ]
    }
   ],
   "source": [
    "print(classification_report(y_test, y_test_predict_rf2))"
   ]
  },
  {
   "cell_type": "code",
   "execution_count": 31,
   "metadata": {},
   "outputs": [
    {
     "data": {
      "text/plain": [
       "array([9, 3, 7, 2, 6])"
      ]
     },
     "execution_count": 31,
     "metadata": {},
     "output_type": "execute_result"
    }
   ],
   "source": [
    "sorted_importance_indicies = np.argsort(abs(rf2.feature_importances_))\n",
    "rf2.feature_importances_.reshape(-1)[sorted_importance_indicies.reshape(-1)]\n",
    "sorted_importance_indicies.reshape(-1)[-5:]"
   ]
  },
  {
   "cell_type": "code",
   "execution_count": 32,
   "metadata": {},
   "outputs": [
    {
     "data": {
      "image/png": "[encoded data removed]",
      "text/plain": [
       "<matplotlib.figure.Figure at 0x107821940>"
      ]
     },
     "metadata": {},
     "output_type": "display_data"
    }
   ],
   "source": [
    "plt.figure(figsize=(18,10))\n",
    "plt.title(\"Feature Importance in Random Forest, Depth = 59\",fontsize=30)\n",
    "coefs_size = abs(rf2.feature_importances_.reshape(-1))\n",
    "labels = X_train.columns[sorted_importance_indicies.reshape(-1)[-5:]]\n",
    "plt.bar(labels, coefs_size[sorted_importance_indicies.reshape(-1)[-5:]])\n",
    "plt.xticks(fontsize=15)\n",
    "plt.yticks(fontsize=20)\n",
    "plt.xticks(rotation=5);"
   ]
  },
  {
   "cell_type": "code",
   "execution_count": 33,
   "metadata": {},
   "outputs": [
    {
     "data": {
      "text/plain": [
       "adult_obesity                                                 0.032570\n",
       "adult_smoking                                                 0.011398\n",
       "adults_65_and_older_living_in_poverty                         0.011034\n",
       "african_american_population                                   0.067241\n",
       "asian_american_population                                     0.055539\n",
       "at_least_bachelorss_degree                                    0.067256\n",
       "at_least_high_school_diploma                                  0.009147\n",
       "child_poverty_living_in_families_below_the_poverty_line       0.010532\n",
       "children_in_single_parent_households                          0.030148\n",
       "children_under_6_living_in_poverty                            0.008840\n",
       "construction_extraction_maintenance_and_repair_occupations    0.025771\n",
       "diabetes                                                      0.029166\n",
       "farming_fishing_and_forestry_occupations                      0.009981\n",
       "gini_coefficient                                              0.018776\n",
       "graduate_degree                                               0.066335\n",
       "hiv_prevalence_rate                                           0.031113\n",
       "homicide_rate                                                 0.013088\n",
       "infant_mortality                                              0.012982\n",
       "injury_deaths                                                 0.014715\n",
       "latino_population                                             0.021097\n",
       "less_than_high_school_diploma                                 0.009007\n",
       "low_birthweight                                               0.006232\n",
       "management_professional_and_related_occupations               0.014548\n",
       "median_age                                                    0.012803\n",
       "median_earnings_2010                                          0.012512\n",
       "native_american_population                                    0.008502\n",
       "other_race_or_races                                           0.012650\n",
       "poor_mental_health_days                                       0.005313\n",
       "poor_physical_health_days                                     0.005315\n",
       "poverty_rate_below_federal_poverty_threshold                  0.016206\n",
       "preschool_enrollment_ratio_enrolled_ages_3_and_4              0.007707\n",
       "production_transportation_and_material_moving_occupations     0.014605\n",
       "sales_and_office_occupations                                  0.010873\n",
       "school_enrollment                                             0.010470\n",
       "service_occupations                                           0.013757\n",
       "sexually_transmitted_infections                               0.032856\n",
       "sire_homogeneity                                              0.025451\n",
       "teen_births                                                   0.013637\n",
       "total_population                                              0.053661\n",
       "unemployment                                                  0.009350\n",
       "uninsured                                                     0.013559\n",
       "violent_crime                                                 0.014098\n",
       "white_not_latino_population                                   0.130159\n",
       "dtype: float64"
      ]
     },
     "execution_count": 33,
     "metadata": {},
     "output_type": "execute_result"
    }
   ],
   "source": [
    "feature_viewer={}\n",
    "for col, score in zip(df.iloc[:,1:44].columns, rf2.feature_importances_):\n",
    "    feature_viewer[col] = score\n",
    "pd.Series(feature_viewer)"
   ]
  },
  {
   "cell_type": "markdown",
   "metadata": {},
   "source": [
    "## RBF Kernel"
   ]
  },
  {
   "cell_type": "code",
   "execution_count": 34,
   "metadata": {},
   "outputs": [
    {
     "data": {
      "text/plain": [
       "GridSearchCV(cv=10, error_score='raise',\n",
       "       estimator=SVC(C=1.0, cache_size=200, class_weight=None, coef0=0.0,\n",
       "  decision_function_shape='ovr', degree=3, gamma='auto', kernel='rbf',\n",
       "  max_iter=-1, probability=False, random_state=None, shrinking=True,\n",
       "  tol=0.001, verbose=False),\n",
       "       fit_params=None, iid=True, n_jobs=1,\n",
       "       param_grid=[{'kernel': ['rbf'], 'gamma': [0.01, 0.001, 0.0001], 'C': [70, 75, 80, 90]}],\n",
       "       pre_dispatch='2*n_jobs', refit=True, return_train_score='warn',\n",
       "       scoring='roc_auc', verbose=0)"
      ]
     },
     "execution_count": 34,
     "metadata": {},
     "output_type": "execute_result"
    }
   ],
   "source": [
    "tbf_params = [{'kernel': ['rbf'], 'gamma': [1e-2, 1e-3, 1e-4], 'C':[70, 75, 80, 90]}]\n",
    "rbf1 = GridSearchCV(SVC(), tbf_params, cv=10, scoring = \"roc_auc\")\n",
    "rbf1.fit(X_train_scaled, y_train)"
   ]
  },
  {
   "cell_type": "code",
   "execution_count": 35,
   "metadata": {},
   "outputs": [
    {
     "data": {
      "text/plain": [
       "SVC(C=80, cache_size=200, class_weight=None, coef0=0.0,\n",
       "  decision_function_shape='ovr', degree=3, gamma=0.001, kernel='rbf',\n",
       "  max_iter=-1, probability=False, random_state=None, shrinking=True,\n",
       "  tol=0.001, verbose=False)"
      ]
     },
     "execution_count": 35,
     "metadata": {},
     "output_type": "execute_result"
    }
   ],
   "source": [
    "rbf1.best_estimator_"
   ]
  },
  {
   "cell_type": "code",
   "execution_count": 36,
   "metadata": {},
   "outputs": [
    {
     "data": {
      "text/plain": [
       "{'C': 80, 'gamma': 0.001, 'kernel': 'rbf'}"
      ]
     },
     "execution_count": 36,
     "metadata": {},
     "output_type": "execute_result"
    }
   ],
   "source": [
    "rbf1.best_params_"
   ]
  },
  {
   "cell_type": "code",
   "execution_count": 37,
   "metadata": {},
   "outputs": [],
   "source": [
    "y_train_predict_rbf1 = rbf1.predict(X_train_scaled)\n",
    "y_test_predict_rbf1 = rbf1.predict(X_test_scaled)"
   ]
  },
  {
   "cell_type": "code",
   "execution_count": 38,
   "metadata": {},
   "outputs": [
    {
     "name": "stdout",
     "output_type": "stream",
     "text": [
      "             precision    recall  f1-score   support\n",
      "\n",
      "          0       0.89      0.75      0.82       146\n",
      "          1       0.96      0.98      0.97       788\n",
      "\n",
      "avg / total       0.95      0.95      0.95       934\n",
      "\n"
     ]
    }
   ],
   "source": [
    "print(classification_report(y_test, y_test_predict_rbf1))"
   ]
  },
  {
   "cell_type": "markdown",
   "metadata": {},
   "source": [
    "## Polynomial SVC"
   ]
  },
  {
   "cell_type": "code",
   "execution_count": 39,
   "metadata": {},
   "outputs": [
    {
     "data": {
      "text/plain": [
       "GridSearchCV(cv=10, error_score='raise',\n",
       "       estimator=SVC(C=1.0, cache_size=200, class_weight=None, coef0=0.0,\n",
       "  decision_function_shape='ovr', degree=3, gamma='auto', kernel='rbf',\n",
       "  max_iter=-1, probability=False, random_state=None, shrinking=True,\n",
       "  tol=0.001, verbose=False),\n",
       "       fit_params=None, iid=True, n_jobs=1,\n",
       "       param_grid=[{'kernel': ['poly'], 'gamma': [0.01, 0.001, 0.0001], 'C': [3300, 3400, 3500, 3600]}],\n",
       "       pre_dispatch='2*n_jobs', refit=True, return_train_score='warn',\n",
       "       scoring='roc_auc', verbose=0)"
      ]
     },
     "execution_count": 39,
     "metadata": {},
     "output_type": "execute_result"
    }
   ],
   "source": [
    "poly_params = [{'kernel': ['poly'], 'gamma': [1e-2, 1e-3, 1e-4], 'C':[3300,3400, 3500, 3600]}]\n",
    "poly1 = GridSearchCV(SVC(), poly_params, cv=10, scoring = \"roc_auc\")\n",
    "poly1.fit(X_train_scaled, y_train)"
   ]
  },
  {
   "cell_type": "code",
   "execution_count": 40,
   "metadata": {},
   "outputs": [
    {
     "data": {
      "text/plain": [
       "SVC(C=3600, cache_size=200, class_weight=None, coef0=0.0,\n",
       "  decision_function_shape='ovr', degree=3, gamma=0.001, kernel='poly',\n",
       "  max_iter=-1, probability=False, random_state=None, shrinking=True,\n",
       "  tol=0.001, verbose=False)"
      ]
     },
     "execution_count": 40,
     "metadata": {},
     "output_type": "execute_result"
    }
   ],
   "source": [
    "poly1.best_estimator_"
   ]
  },
  {
   "cell_type": "code",
   "execution_count": 41,
   "metadata": {},
   "outputs": [
    {
     "data": {
      "text/plain": [
       "{'C': 3600, 'gamma': 0.001, 'kernel': 'poly'}"
      ]
     },
     "execution_count": 41,
     "metadata": {},
     "output_type": "execute_result"
    }
   ],
   "source": [
    "poly1.best_params_"
   ]
  },
  {
   "cell_type": "code",
   "execution_count": 42,
   "metadata": {},
   "outputs": [],
   "source": [
    "y_train_predict_poly1 = poly1.predict(X_train_scaled)\n",
    "y_test_predict_poly1 = poly1.predict(X_test_scaled)"
   ]
  },
  {
   "cell_type": "code",
   "execution_count": 43,
   "metadata": {},
   "outputs": [
    {
     "name": "stdout",
     "output_type": "stream",
     "text": [
      "             precision    recall  f1-score   support\n",
      "\n",
      "          0       0.95      0.61      0.74       146\n",
      "          1       0.93      0.99      0.96       788\n",
      "\n",
      "avg / total       0.93      0.93      0.93       934\n",
      "\n"
     ]
    }
   ],
   "source": [
    "print(classification_report(y_test, y_test_predict_poly1))"
   ]
  },
  {
   "cell_type": "markdown",
   "metadata": {},
   "source": [
    "## Gaussian "
   ]
  },
  {
   "cell_type": "code",
   "execution_count": 44,
   "metadata": {},
   "outputs": [
    {
     "data": {
      "text/plain": [
       "GaussianNB(priors=None)"
      ]
     },
     "execution_count": 44,
     "metadata": {},
     "output_type": "execute_result"
    }
   ],
   "source": [
    "gs = naive_bayes.GaussianNB()\n",
    "gs.fit(X_train_scaled, y_train)"
   ]
  },
  {
   "cell_type": "code",
   "execution_count": 45,
   "metadata": {},
   "outputs": [],
   "source": [
    "y_train_predict_gs = gs.predict(X_train_scaled)\n",
    "y_test_predict_gs = gs.predict(X_test_scaled)"
   ]
  },
  {
   "cell_type": "code",
   "execution_count": 46,
   "metadata": {},
   "outputs": [
    {
     "name": "stdout",
     "output_type": "stream",
     "text": [
      "             precision    recall  f1-score   support\n",
      "\n",
      "          0       0.60      0.79      0.69       146\n",
      "          1       0.96      0.90      0.93       788\n",
      "\n",
      "avg / total       0.90      0.89      0.89       934\n",
      "\n"
     ]
    }
   ],
   "source": [
    "print(classification_report(y_test, y_test_predict_gs))"
   ]
  },
  {
   "cell_type": "markdown",
   "metadata": {},
   "source": [
    "## Pickle the models"
   ]
  },
  {
   "cell_type": "code",
   "execution_count": 57,
   "metadata": {},
   "outputs": [],
   "source": [
    "pickle.dump(knn, open('pickles/knn.pkl','wb'))"
   ]
  },
  {
   "cell_type": "code",
   "execution_count": 58,
   "metadata": {},
   "outputs": [],
   "source": [
    "pickle.dump(knn2, open('pickles/knn2.pkl','wb'))"
   ]
  },
  {
   "cell_type": "code",
   "execution_count": 59,
   "metadata": {},
   "outputs": [],
   "source": [
    "pickle.dump(knn3, open('pickles/knn3.pkl','wb'))"
   ]
  },
  {
   "cell_type": "code",
   "execution_count": 60,
   "metadata": {},
   "outputs": [],
   "source": [
    "pickle.dump(lm, open('pickles/lm.pkl','wb'))"
   ]
  },
  {
   "cell_type": "code",
   "execution_count": 61,
   "metadata": {},
   "outputs": [],
   "source": [
    "pickle.dump(lm0, open('pickles/lm0.pkl','wb'))"
   ]
  },
  {
   "cell_type": "code",
   "execution_count": 62,
   "metadata": {},
   "outputs": [],
   "source": [
    "pickle.dump(lm2, open('pickles/lm2.pkl','wb'))"
   ]
  },
  {
   "cell_type": "code",
   "execution_count": 67,
   "metadata": {},
   "outputs": [],
   "source": [
    "pickle.dump(rf2, open('pickles/rf2.pkl','wb'))"
   ]
  },
  {
   "cell_type": "code",
   "execution_count": 68,
   "metadata": {},
   "outputs": [],
   "source": [
    "pickle.dump(rbf1, open('pickles/rbf1.pkl','wb'))"
   ]
  },
  {
   "cell_type": "code",
   "execution_count": 74,
   "metadata": {},
   "outputs": [],
   "source": [
    "pickle.dump(poly1, open('pickles/poly1.pkl','wb'))"
   ]
  },
  {
   "cell_type": "code",
   "execution_count": 78,
   "metadata": {},
   "outputs": [],
   "source": [
    "pickle.dump(gs, open('pickles/gs.pkl','wb'))"
   ]
  }
 ],
 "metadata": {
  "kernelspec": {
   "display_name": "Python 3",
   "language": "python",
   "name": "python3"
  },
  "language_info": {
   "codemirror_mode": {
    "name": "ipython",
    "version": 3
   },
   "file_extension": ".py",
   "mimetype": "text/x-python",
   "name": "python",
   "nbconvert_exporter": "python",
   "pygments_lexer": "ipython3",
   "version": "3.6.4"
  }
 },
 "nbformat": 4,
 "nbformat_minor": 2
}

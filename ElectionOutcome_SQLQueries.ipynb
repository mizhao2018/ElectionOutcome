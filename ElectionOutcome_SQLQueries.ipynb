{
 "cells": [
  {
   "cell_type": "markdown",
   "metadata": {},
   "source": [
    "## Import table to SQL"
   ]
  },
  {
   "cell_type": "code",
   "execution_count": null,
   "metadata": {},
   "outputs": [],
   "source": [
    "# Create election table\n",
    "\n",
    "CREATE TABLE election_main(\n",
    "    County TEXT,\n",
    "    Less_Than_High_School_Diploma INT,\n",
    "    At_Least_High_School_Diploma DOUBLE PRECISION,\n",
    "    At_Least_Bachelorss_Degree DOUBLE PRECISION,\n",
    "    Graduate_Degree DOUBLE PRECISION, \n",
    "    School_Enrollment DOUBLE PRECISION, \n",
    "    Median_Earnings_2010 DOUBLE PRECISION,\n",
    "    White_Not_Latino_Population DOUBLE PRECISION, \n",
    "    African_American_Population DOUBLE PRECISION,\n",
    "    Native_American_Population DOUBLE PRECISION,\n",
    "    Asian_American_Population DOUBLE PRECISION, \n",
    "    Other_Race_or_Races DOUBLE PRECISION,\n",
    "    Latino_Population DOUBLE PRECISION, \n",
    "    Children_Under_6_Living_in_Poverty DOUBLE PRECISION, \n",
    "    Adults_65_and_Older_Living_in_Poverty DOUBLE PRECISION, \n",
    "    Total_Population INT, \n",
    "    Preschool_Enrollment_Ratio_enrolled_ages_3_and_4 DOUBLE PRECISION,\n",
    "    Poverty_Rate_below_federal_poverty_threshold DOUBLE PRECISION, \n",
    "    Gini_Coefficient DOUBLE PRECISION, \n",
    "    Child_Poverty_living_in_families_below_the_poverty_line DOUBLE PRECISION, \n",
    "    Management_Professional_and_related_occupations DOUBLE PRECISION, \n",
    "    Service_occupations DOUBLE PRECISION, \n",
    "    Sales_and_office_occupations DOUBLE PRECISION, \n",
    "    Farming_fishing_and_forestry_occupations DOUBLE PRECISION, \n",
    "    Construction_extraction_maintenance_and_repair_occupations DOUBLE PRECISION,\n",
    "    Production_transportation_and_material_moving_occupations DOUBLE PRECISION,\n",
    "    SIRE_homogeneity DOUBLE PRECISION, \n",
    "    median_age DOUBLE PRECISION, \n",
    "    Poor_physical_health_days DOUBLE PRECISION, \n",
    "    Poor_mental_health_days DOUBLE PRECISION, \n",
    "    Low_birthweight DOUBLE PRECISION, \n",
    "    Teen_births DOUBLE PRECISION, \n",
    "    Children_in_single_parent_households DOUBLE PRECISION, \n",
    "    Adult_smoking DOUBLE PRECISION, \n",
    "    Adult_obesity DOUBLE PRECISION, \n",
    "    Diabetes DOUBLE PRECISION, \n",
    "    Sexually_transmitted_infections DOUBLE PRECISION, \n",
    "    HIV_prevalence_rate DOUBLE PRECISION, \n",
    "    Uninsured DOUBLE PRECISION, \n",
    "    Unemployment DOUBLE PRECISION, \n",
    "    Violent_crime DOUBLE PRECISION, \n",
    "    Homicide_rate DOUBLE PRECISION, \n",
    "    Injury_deaths DOUBLE PRECISION,\n",
    "    Infant_mortality DOUBLE PRECISION, \n",
    "    Result_2016 INT\n",
    ");"
   ]
  },
  {
   "cell_type": "code",
   "execution_count": null,
   "metadata": {},
   "outputs": [],
   "source": [
    "# create fips table (county code)\n",
    "\n",
    "CREATE TABLE countycode(\n",
    "    Fips TEXT,\n",
    "    County TEXT\n",
    ");"
   ]
  },
  {
   "cell_type": "code",
   "execution_count": null,
   "metadata": {},
   "outputs": [],
   "source": [
    "# in SQL, join election_main table with fips table\n",
    "CREATE VIEW county_with_fips AS (SELECT election_main.*, countycode.fips FROM election_main\n",
    "LEFT JOIN countycode ON election_main.county = countycode.county);"
   ]
  },
  {
   "cell_type": "markdown",
   "metadata": {},
   "source": [
    "## Retrieve data from postgresql to Pandas"
   ]
  },
  {
   "cell_type": "code",
   "execution_count": 2,
   "metadata": {},
   "outputs": [],
   "source": [
    "# get pandas and postgres to work together\n",
    "import psycopg2 as pg\n",
    "import pandas.io.sql as pd_sql\n",
    "import pandas as pd\n",
    "import numpy as np"
   ]
  },
  {
   "cell_type": "code",
   "execution_count": 3,
   "metadata": {},
   "outputs": [],
   "source": [
    "# Postgres info to connect\n",
    "\n",
    "connection_args = {\n",
    "    'host': '18.221.91.145', \n",
    "    'user': 'ubuntu',    \n",
    "    'dbname': 'project2',   \n",
    "    'port': 5432        \n",
    "}\n",
    "\n",
    "connection = pg.connect(**connection_args)"
   ]
  },
  {
   "cell_type": "code",
   "execution_count": 4,
   "metadata": {},
   "outputs": [],
   "source": [
    "query = \"SELECT * FROM county_with_fips;\"\n",
    "df = pd_sql.read_sql (query, connection)"
   ]
  },
  {
   "cell_type": "code",
   "execution_count": 7,
   "metadata": {},
   "outputs": [],
   "source": [
    "df.to_pickle('table_from_aws.pkl')"
   ]
  }
 ],
 "metadata": {
  "kernelspec": {
   "display_name": "Python 3",
   "language": "python",
   "name": "python3"
  },
  "language_info": {
   "codemirror_mode": {
    "name": "ipython",
    "version": 3
   },
   "file_extension": ".py",
   "mimetype": "text/x-python",
   "name": "python",
   "nbconvert_exporter": "python",
   "pygments_lexer": "ipython3",
   "version": "3.6.4"
  }
 },
 "nbformat": 4,
 "nbformat_minor": 2
}
